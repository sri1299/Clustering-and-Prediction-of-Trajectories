{
  "nbformat": 4,
  "nbformat_minor": 0,
  "metadata": {
    "colab": {
      "name": "Drop_bomb.ipynb",
      "provenance": [],
      "collapsed_sections": []
    },
    "kernelspec": {
      "name": "python3",
      "display_name": "Python 3"
    }
  },
  "cells": [
    {
      "cell_type": "code",
      "metadata": {
        "id": "B0KhPwCUFkxW",
        "colab_type": "code",
        "colab": {}
      },
      "source": [
        "import numpy as np\n",
        "import pandas as pd\n",
        "import csv\n",
        "try:  \n",
        "  from faker import Faker\n",
        "except:\n",
        "  !pip install faker\n",
        "  from faker import Faker\n",
        "import random\n",
        "import decimal\n",
        "import time"
      ],
      "execution_count": 159,
      "outputs": []
    },
    {
      "cell_type": "code",
      "metadata": {
        "id": "Z0Gytx2tGOL4",
        "colab_type": "code",
        "colab": {}
      },
      "source": [
        "fake = Faker()"
      ],
      "execution_count": 160,
      "outputs": []
    },
    {
      "cell_type": "code",
      "metadata": {
        "id": "RZIRLywVIHtE",
        "colab_type": "code",
        "colab": {
          "base_uri": "https://localhost:8080/",
          "height": 34
        },
        "outputId": "fd2390e7-83c3-44b2-fba7-84054662f7e2"
      },
      "source": [
        "print(random.random())"
      ],
      "execution_count": 161,
      "outputs": [
        {
          "output_type": "stream",
          "text": [
            "0.6100447112655343\n"
          ],
          "name": "stdout"
        }
      ]
    },
    {
      "cell_type": "code",
      "metadata": {
        "id": "C-rr9P7EFvFD",
        "colab_type": "code",
        "colab": {
          "base_uri": "https://localhost:8080/",
          "height": 34
        },
        "outputId": "53ed9a18-5a69-403e-f37e-d20013dc7e2e"
      },
      "source": [
        "max_alt = 10000/100000\n",
        "vel = [220/100000*random.random(),220/100000*random.random(),0]\n",
        "acc = [-1/100*random.random(),-1/100*random.random(),(-10+random.random())/100000]\n",
        "\n",
        "src_lat, src_lon  = float(fake.latitude()), float(fake.longitude())\n",
        "d_lat , d_lon = float(fake.latitude()), float(fake.longitude())\n",
        "print(src_lat, src_lon,d_lat,d_lon)\n",
        "\n",
        "src_alt = max_alt * (random.random()/2+0.5) * 1.5\n",
        "# src_lat , src_lon = fake.latitude()+(np.random.normal(0,1,1)+0.5)*100 , fake.longitude()+(np.random.normal(0,1,1)+0.5)*100\n",
        "# print (src_lat,src_lon)\n",
        "# src_alt = random.random() * max_alt"
      ],
      "execution_count": 162,
      "outputs": [
        {
          "output_type": "stream",
          "text": [
            "-52.8517745 120.367266 -11.6080465 -106.473814\n"
          ],
          "name": "stdout"
        }
      ]
    },
    {
      "cell_type": "code",
      "metadata": {
        "id": "qlKjAY_iJpBy",
        "colab_type": "code",
        "colab": {
          "base_uri": "https://localhost:8080/",
          "height": 52
        },
        "outputId": "69895126-bf4a-40e9-af55-b91a4fe588aa"
      },
      "source": [
        "max_dist=1\n",
        "d_lat = src_lat + ((np.random.normal(0,1,1)+0.5)*max_dist)\n",
        "d_lon = src_lon + (np.random.normal(0,1,1)+0.5)*max_dist\n",
        "\n",
        "d_lat, d_lon = d_lat[0],d_lon[0]\n",
        "print(d_lat,d_lon)\n",
        "src_lat = d_lat\n",
        "src_lon = d_lon\n",
        "print(src_lat,src_lon)"
      ],
      "execution_count": 163,
      "outputs": [
        {
          "output_type": "stream",
          "text": [
            "-53.48288744505226 120.63842218426304\n",
            "-53.48288744505226 120.63842218426304\n"
          ],
          "name": "stdout"
        }
      ]
    },
    {
      "cell_type": "code",
      "metadata": {
        "id": "frNbkBfMIQYz",
        "colab_type": "code",
        "colab": {}
      },
      "source": [
        "alt = src_alt\n",
        "lats=[d_lat]\n",
        "lons=[d_lon]\n",
        "alts=[src_alt]\n",
        "while(alts[-1]>0):\n",
        "  acc[2] = (-10 + random.random())/100000\n",
        "  lats.append(lats[-1]+vel[0])\n",
        "  lons.append(lons[-1]+vel[1])\n",
        "  alts.append(alts[-1]+vel[2])\n",
        "  vel = np.add(vel,np.multiply(acc,[vel[0],vel[1],1]))\n",
        "  # print(vel , np.multiply(acc,[vel[0],vel[1],1]))\n",
        "  # print(vel,alt)\n",
        "  alt = alt + vel[2]\n",
        "  # acc = [-1/100*random.random()*vel[0],-1/100*random.random()*vel[1],-10/100000]\n",
        "# print(alt)"
      ],
      "execution_count": 164,
      "outputs": []
    },
    {
      "cell_type": "code",
      "metadata": {
        "id": "y2yqW0umOUiL",
        "colab_type": "code",
        "colab": {
          "base_uri": "https://localhost:8080/",
          "height": 784
        },
        "outputId": "fe5d03f0-4f2b-44f4-8d2a-d3f2681be926"
      },
      "source": [
        "print(np.array([lats,lons,alts]))\n",
        "print(alts)"
      ],
      "execution_count": 165,
      "outputs": [
        {
          "output_type": "stream",
          "text": [
            "[[-5.34828874e+01 -5.34813814e+01 -5.34798900e+01 -5.34784131e+01\n",
            "  -5.34769507e+01 -5.34755024e+01 -5.34740683e+01 -5.34726481e+01\n",
            "  -5.34712418e+01 -5.34698492e+01 -5.34684701e+01 -5.34671045e+01\n",
            "  -5.34657522e+01 -5.34644130e+01 -5.34630869e+01 -5.34617738e+01\n",
            "  -5.34604734e+01 -5.34591856e+01 -5.34579104e+01 -5.34566477e+01\n",
            "  -5.34553972e+01 -5.34541589e+01 -5.34529327e+01 -5.34517184e+01\n",
            "  -5.34505160e+01 -5.34493252e+01 -5.34481461e+01 -5.34469785e+01\n",
            "  -5.34458222e+01 -5.34446772e+01 -5.34435433e+01 -5.34424205e+01\n",
            "  -5.34413086e+01 -5.34402076e+01 -5.34391172e+01 -5.34380375e+01\n",
            "  -5.34369684e+01 -5.34359096e+01 -5.34348611e+01 -5.34338229e+01\n",
            "  -5.34327947e+01 -5.34317766e+01 -5.34307684e+01 -5.34297701e+01\n",
            "  -5.34287814e+01 -5.34278024e+01 -5.34268329e+01 -5.34258728e+01\n",
            "  -5.34249222e+01 -5.34239807e+01 -5.34230485e+01 -5.34221253e+01\n",
            "  -5.34212111e+01 -5.34203058e+01]\n",
            " [ 1.20638422e+02  1.20639498e+02  1.20640566e+02  1.20641626e+02\n",
            "   1.20642679e+02  1.20643723e+02  1.20644759e+02  1.20645788e+02\n",
            "   1.20646809e+02  1.20647822e+02  1.20648828e+02  1.20649826e+02\n",
            "   1.20650816e+02  1.20651799e+02  1.20652775e+02  1.20653744e+02\n",
            "   1.20654705e+02  1.20655659e+02  1.20656606e+02  1.20657545e+02\n",
            "   1.20658478e+02  1.20659404e+02  1.20660322e+02  1.20661234e+02\n",
            "   1.20662139e+02  1.20663038e+02  1.20663929e+02  1.20664814e+02\n",
            "   1.20665692e+02  1.20666564e+02  1.20667429e+02  1.20668287e+02\n",
            "   1.20669139e+02  1.20669985e+02  1.20670824e+02  1.20671657e+02\n",
            "   1.20672484e+02  1.20673305e+02  1.20674119e+02  1.20674927e+02\n",
            "   1.20675730e+02  1.20676526e+02  1.20677316e+02  1.20678101e+02\n",
            "   1.20678879e+02  1.20679652e+02  1.20680419e+02  1.20681180e+02\n",
            "   1.20681935e+02  1.20682685e+02  1.20683429e+02  1.20684167e+02\n",
            "   1.20684900e+02  1.20685628e+02]\n",
            " [ 1.28202980e-01  1.28202980e-01  1.28109051e-01  1.27917817e-01\n",
            "   1.27626605e-01  1.27245020e-01  1.26767023e-01  1.26195971e-01\n",
            "   1.25532961e-01  1.24772973e-01  1.23914932e-01  1.22963252e-01\n",
            "   1.21919165e-01  1.20781686e-01  1.19544405e-01  1.18213203e-01\n",
            "   1.16784772e-01  1.15258408e-01  1.13633168e-01  1.11917894e-01\n",
            "   1.10110515e-01  1.08203256e-01  1.06204399e-01  1.04110963e-01\n",
            "   1.01918745e-01  9.96276405e-02  9.72431126e-02  9.47685609e-02\n",
            "   9.21952049e-02  8.95299628e-02  8.67687514e-02  8.39163358e-02\n",
            "   8.09708905e-02  7.79310667e-02  7.47940228e-02  7.15617025e-02\n",
            "   6.82328975e-02  6.48061092e-02  6.12846035e-02  5.76698563e-02\n",
            "   5.39564104e-02  5.01437077e-02  4.62380807e-02  4.22330272e-02\n",
            "   3.81329988e-02  3.39387052e-02  2.96516132e-02  2.52721074e-02\n",
            "   2.08006344e-02  1.62311772e-02  1.15687196e-02  6.81582023e-03\n",
            "   1.96674554e-03 -2.97860232e-03]]\n",
            "[0.1282029803248208, 0.1282029803248208, 0.12810905075963808, 0.12791781732256385, 0.12762660495186873, 0.12724502021764014, 0.1267670226617851, 0.12619597142410477, 0.12553296060371363, 0.1247729726421897, 0.12391493201679211, 0.12296325163134979, 0.12191916475655099, 0.1207816861116361, 0.1195444048030999, 0.11821320314485803, 0.11678477172973531, 0.11525840830143821, 0.1136331683956128, 0.11191789398600852, 0.11011051516138619, 0.10820325589107922, 0.10620439908656477, 0.10411096343681621, 0.10191874523524536, 0.09962764053493524, 0.09724311256897769, 0.09476856093236735, 0.09219520485960163, 0.0895299628428571, 0.08676875143603083, 0.08391633576307769, 0.08097089045827073, 0.07793106665307337, 0.07479402281579635, 0.07156170245108921, 0.06823289751914016, 0.0648061091960716, 0.06128460346770902, 0.05766985630398784, 0.05395641035401959, 0.05014370765639057, 0.04623808074074541, 0.04223302717513235, 0.038132998820393706, 0.03393870523222364, 0.029651613241216165, 0.02527210739675615, 0.020800634446030943, 0.016231177230187344, 0.011568719625400289, 0.006815820229070415, 0.0019667455370790217, -0.0029786023249721684]\n"
          ],
          "name": "stdout"
        }
      ]
    },
    {
      "cell_type": "code",
      "metadata": {
        "id": "zp2YO_UbPCBm",
        "colab_type": "code",
        "colab": {
          "base_uri": "https://localhost:8080/",
          "height": 34
        },
        "outputId": "ebe4bdf2-aecb-4e64-afc0-7e17333d4a63"
      },
      "source": [
        "start = int(time.time()-(random.random()*10000))\n",
        "print(start)\n",
        "# print(orig_alt.shape)\n",
        "t = start + np.linspace(1,len(alts),len(alts))\n",
        "t = t.reshape(1,len(t))"
      ],
      "execution_count": 166,
      "outputs": [
        {
          "output_type": "stream",
          "text": [
            "1596441631\n"
          ],
          "name": "stdout"
        }
      ]
    },
    {
      "cell_type": "code",
      "metadata": {
        "id": "yEr8YWACPnrB",
        "colab_type": "code",
        "colab": {
          "base_uri": "https://localhost:8080/",
          "height": 972
        },
        "outputId": "3dfefa48-03df-4026-d8e8-29c7833f10c8"
      },
      "source": [
        "data = np.array([lats,lons,alts])\n",
        "data = np.concatenate((t,data),axis=0)\n",
        "print(data.shape)\n",
        "data = np.transpose(data)\n",
        "data = np.multiply(data,[1,1,1,100000])\n",
        "print(data)"
      ],
      "execution_count": 167,
      "outputs": [
        {
          "output_type": "stream",
          "text": [
            "(4, 54)\n",
            "[[ 1.59644163e+09 -5.34828874e+01  1.20638422e+02  1.28202980e+04]\n",
            " [ 1.59644163e+09 -5.34813814e+01  1.20639498e+02  1.28202980e+04]\n",
            " [ 1.59644163e+09 -5.34798900e+01  1.20640566e+02  1.28109051e+04]\n",
            " [ 1.59644164e+09 -5.34784131e+01  1.20641626e+02  1.27917817e+04]\n",
            " [ 1.59644164e+09 -5.34769507e+01  1.20642679e+02  1.27626605e+04]\n",
            " [ 1.59644164e+09 -5.34755024e+01  1.20643723e+02  1.27245020e+04]\n",
            " [ 1.59644164e+09 -5.34740683e+01  1.20644759e+02  1.26767023e+04]\n",
            " [ 1.59644164e+09 -5.34726481e+01  1.20645788e+02  1.26195971e+04]\n",
            " [ 1.59644164e+09 -5.34712418e+01  1.20646809e+02  1.25532961e+04]\n",
            " [ 1.59644164e+09 -5.34698492e+01  1.20647822e+02  1.24772973e+04]\n",
            " [ 1.59644164e+09 -5.34684701e+01  1.20648828e+02  1.23914932e+04]\n",
            " [ 1.59644164e+09 -5.34671045e+01  1.20649826e+02  1.22963252e+04]\n",
            " [ 1.59644164e+09 -5.34657522e+01  1.20650816e+02  1.21919165e+04]\n",
            " [ 1.59644164e+09 -5.34644130e+01  1.20651799e+02  1.20781686e+04]\n",
            " [ 1.59644165e+09 -5.34630869e+01  1.20652775e+02  1.19544405e+04]\n",
            " [ 1.59644165e+09 -5.34617738e+01  1.20653744e+02  1.18213203e+04]\n",
            " [ 1.59644165e+09 -5.34604734e+01  1.20654705e+02  1.16784772e+04]\n",
            " [ 1.59644165e+09 -5.34591856e+01  1.20655659e+02  1.15258408e+04]\n",
            " [ 1.59644165e+09 -5.34579104e+01  1.20656606e+02  1.13633168e+04]\n",
            " [ 1.59644165e+09 -5.34566477e+01  1.20657545e+02  1.11917894e+04]\n",
            " [ 1.59644165e+09 -5.34553972e+01  1.20658478e+02  1.10110515e+04]\n",
            " [ 1.59644165e+09 -5.34541589e+01  1.20659404e+02  1.08203256e+04]\n",
            " [ 1.59644165e+09 -5.34529327e+01  1.20660322e+02  1.06204399e+04]\n",
            " [ 1.59644166e+09 -5.34517184e+01  1.20661234e+02  1.04110963e+04]\n",
            " [ 1.59644166e+09 -5.34505160e+01  1.20662139e+02  1.01918745e+04]\n",
            " [ 1.59644166e+09 -5.34493252e+01  1.20663038e+02  9.96276405e+03]\n",
            " [ 1.59644166e+09 -5.34481461e+01  1.20663929e+02  9.72431126e+03]\n",
            " [ 1.59644166e+09 -5.34469785e+01  1.20664814e+02  9.47685609e+03]\n",
            " [ 1.59644166e+09 -5.34458222e+01  1.20665692e+02  9.21952049e+03]\n",
            " [ 1.59644166e+09 -5.34446772e+01  1.20666564e+02  8.95299628e+03]\n",
            " [ 1.59644166e+09 -5.34435433e+01  1.20667429e+02  8.67687514e+03]\n",
            " [ 1.59644166e+09 -5.34424205e+01  1.20668287e+02  8.39163358e+03]\n",
            " [ 1.59644166e+09 -5.34413086e+01  1.20669139e+02  8.09708905e+03]\n",
            " [ 1.59644166e+09 -5.34402076e+01  1.20669985e+02  7.79310667e+03]\n",
            " [ 1.59644167e+09 -5.34391172e+01  1.20670824e+02  7.47940228e+03]\n",
            " [ 1.59644167e+09 -5.34380375e+01  1.20671657e+02  7.15617025e+03]\n",
            " [ 1.59644167e+09 -5.34369684e+01  1.20672484e+02  6.82328975e+03]\n",
            " [ 1.59644167e+09 -5.34359096e+01  1.20673305e+02  6.48061092e+03]\n",
            " [ 1.59644167e+09 -5.34348611e+01  1.20674119e+02  6.12846035e+03]\n",
            " [ 1.59644167e+09 -5.34338229e+01  1.20674927e+02  5.76698563e+03]\n",
            " [ 1.59644167e+09 -5.34327947e+01  1.20675730e+02  5.39564104e+03]\n",
            " [ 1.59644167e+09 -5.34317766e+01  1.20676526e+02  5.01437077e+03]\n",
            " [ 1.59644167e+09 -5.34307684e+01  1.20677316e+02  4.62380807e+03]\n",
            " [ 1.59644168e+09 -5.34297701e+01  1.20678101e+02  4.22330272e+03]\n",
            " [ 1.59644168e+09 -5.34287814e+01  1.20678879e+02  3.81329988e+03]\n",
            " [ 1.59644168e+09 -5.34278024e+01  1.20679652e+02  3.39387052e+03]\n",
            " [ 1.59644168e+09 -5.34268329e+01  1.20680419e+02  2.96516132e+03]\n",
            " [ 1.59644168e+09 -5.34258728e+01  1.20681180e+02  2.52721074e+03]\n",
            " [ 1.59644168e+09 -5.34249222e+01  1.20681935e+02  2.08006344e+03]\n",
            " [ 1.59644168e+09 -5.34239807e+01  1.20682685e+02  1.62311772e+03]\n",
            " [ 1.59644168e+09 -5.34230485e+01  1.20683429e+02  1.15687196e+03]\n",
            " [ 1.59644168e+09 -5.34221253e+01  1.20684167e+02  6.81582023e+02]\n",
            " [ 1.59644168e+09 -5.34212111e+01  1.20684900e+02  1.96674554e+02]\n",
            " [ 1.59644168e+09 -5.34203058e+01  1.20685628e+02 -2.97860232e+02]]\n"
          ],
          "name": "stdout"
        }
      ]
    },
    {
      "cell_type": "code",
      "metadata": {
        "id": "hntS5AozP-Ap",
        "colab_type": "code",
        "colab": {
          "base_uri": "https://localhost:8080/",
          "height": 34
        },
        "outputId": "c1607b0a-2f9e-4363-ebc2-29c8262030b7"
      },
      "source": [
        "d = pd.DataFrame(data=data,columns = [\"t\",\"lat\",\"lon\",\"alt\"])\n",
        "d.to_csv('data/traj'+str(count)+'.csv', sep=\",\", index=False)\n",
        "count = count +1\n",
        "print(count)"
      ],
      "execution_count": 168,
      "outputs": [
        {
          "output_type": "stream",
          "text": [
            "31\n"
          ],
          "name": "stdout"
        }
      ]
    },
    {
      "cell_type": "code",
      "metadata": {
        "id": "0d_XTgmASEKL",
        "colab_type": "code",
        "colab": {}
      },
      "source": [
        ""
      ],
      "execution_count": 168,
      "outputs": []
    },
    {
      "cell_type": "code",
      "metadata": {
        "id": "7Y73QyhYSETU",
        "colab_type": "code",
        "colab": {}
      },
      "source": [
        ""
      ],
      "execution_count": 168,
      "outputs": []
    },
    {
      "cell_type": "code",
      "metadata": {
        "id": "qE_KB5eGSEV_",
        "colab_type": "code",
        "colab": {}
      },
      "source": [
        ""
      ],
      "execution_count": 168,
      "outputs": []
    },
    {
      "cell_type": "code",
      "metadata": {
        "id": "npUdKLBjSEa2",
        "colab_type": "code",
        "colab": {}
      },
      "source": [
        ""
      ],
      "execution_count": 168,
      "outputs": []
    },
    {
      "cell_type": "code",
      "metadata": {
        "id": "Ur42PT90SEZQ",
        "colab_type": "code",
        "colab": {}
      },
      "source": [
        ""
      ],
      "execution_count": 168,
      "outputs": []
    },
    {
      "cell_type": "code",
      "metadata": {
        "id": "PNEA7FT2Qu21",
        "colab_type": "code",
        "colab": {}
      },
      "source": [
        "  # count = 21"
      ],
      "execution_count": 169,
      "outputs": []
    },
    {
      "cell_type": "code",
      "metadata": {
        "id": "oDtg8W4HQwcj",
        "colab_type": "code",
        "colab": {}
      },
      "source": [
        ""
      ],
      "execution_count": 169,
      "outputs": []
    },
    {
      "cell_type": "code",
      "metadata": {
        "id": "mSFZCE0RRQ4w",
        "colab_type": "code",
        "colab": {}
      },
      "source": [
        ""
      ],
      "execution_count": 169,
      "outputs": []
    },
    {
      "cell_type": "code",
      "metadata": {
        "id": "dB3NCKQaRQ94",
        "colab_type": "code",
        "colab": {}
      },
      "source": [
        "# from google.colab import drive \n",
        "# drive.mount('/mntDrive') \n"
      ],
      "execution_count": 170,
      "outputs": []
    },
    {
      "cell_type": "code",
      "metadata": {
        "id": "VQhrLc21RQ7q",
        "colab_type": "code",
        "colab": {}
      },
      "source": [
        "# ! cp  \"/content/data/traj30.csv\" \"/mntDrive/My Drive/synthesis/data/\""
      ],
      "execution_count": 171,
      "outputs": []
    },
    {
      "cell_type": "code",
      "metadata": {
        "id": "Kt4VFMjjTCYy",
        "colab_type": "code",
        "colab": {}
      },
      "source": [
        ""
      ],
      "execution_count": 171,
      "outputs": []
    }
  ]
}