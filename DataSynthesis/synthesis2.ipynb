{
 "cells": [
  {
   "cell_type": "code",
   "execution_count": 2,
   "metadata": {},
   "outputs": [],
   "source": [
    "import numpy as np\n",
    "import pandas as pd\n",
    "import csv\n",
    "from faker import Faker\n",
    "import random"
   ]
  },
  {
   "cell_type": "code",
   "execution_count": 72,
   "metadata": {},
   "outputs": [],
   "source": [
    "#ALL_DEFINED_FUNCTIONS_GOES_HERE\n",
    "def dist(pos):\n",
    "    [src_lat,src_lon,src_alt,dest_lat,dest_lon,dest_alt] = pos\n",
    "    return np.sqrt(np.square(src_lat-dest_lat) + np.square(src_lon-dest_lon) + np.square(src_alt-dest_alt))\n",
    "def calc_time(pos,speed):\n",
    "    return int(dist(pos)/speed)\n",
    "def is_close(pos):\n",
    "    [src_lat,src_lon,src_alt,dest_lat,dest_lon,dest_alt] = pos\n",
    "    return (dist(pos) < 0.1) #can be changed accordingly\n",
    "\n",
    "def intrapol(pos,vel,acc,speed,maneuver_prob,maneuver_fact,noise_fact):\n",
    "    global timestep, man_steps\n",
    "    [src_lat,src_lon,src_alt,dest_lat,dest_lon,dest_alt] = pos\n",
    "    [x_vel,y_vel,z_vel] = vel\n",
    "    [x_acc,y_acc,z_acc] = acc\n",
    "    lats , lons , alts = [src_lat] , [src_lon] , [src_alt]\n",
    "    man = False\n",
    "    i = 1\n",
    "    while(not is_close([lats[-1],lons[-1],alts[-1],dest_lat,dest_lon,dest_alt])):\n",
    "        print(lats[-1],lons[-1],alts[-1])\n",
    "        if(man == True):\n",
    "            x_vel = x_vel + (random.random() - 0.5)*2*maneuver_fact\n",
    "            y_vel = y_vel + (random.random() - 0.5)*2*maneuver_fact\n",
    "            z_vel = z_vel + (random.random() - 0.5)*2*maneuver_fact\n",
    "            for k in range(man_steps):            \n",
    "                lats.append(lats[-1] + x_vel*timestep)\n",
    "                lons.append(lons[-1] + y_vel*timestep)\n",
    "                alts.append(alts[-1] + z_vel*timestep)\n",
    "            man = False\n",
    "            i = i + man_steps\n",
    "        else:\n",
    "#             print(lats[-1],lons[-1],alts[-1])\n",
    "            lats.append(lats[-1] + x_vel*timestep)\n",
    "            lons.append(lons[-1] + y_vel*timestep)\n",
    "            alts.append(alts[-1] + z_vel*timestep)\n",
    "#             x_velp = x_vel\n",
    "#             print(x_velp ,x_vel)\n",
    "            pos_i = [lats[-1],lons[-1],alts[-1],dest_lat,dest_lon,dest_alt]\n",
    "            x_vel = x_vel + (lats[-1]-dest_lat)/dist(pos) + (random.random()-0.5)* 2 * noise_fact/100000\n",
    "            y_vel = y_vel + (lons[-1]-dest_lon)/calc_time(pos_i,speed) + (random.random()-0.5)* 2 * noise_fact/100000\n",
    "            z_vel = z_vel + (alts[-1]-dest_alt)/calc_time(pos_i,speed) + (random.random()-0.5)* 2 * noise_fact/100000\n",
    "            man = (random.random() <= maneuver_prob)\n",
    "            i = i + 1\n",
    "    lats.append(dest_lat)\n",
    "    lons.append(dest_lon)\n",
    "    alts.append(dest_alt)\n",
    "    return {\"pos\":[lats,lons,alts],\"vel\":[x_vel,y_vel,z_vel]}"
   ]
  },
  {
   "cell_type": "code",
   "execution_count": 73,
   "metadata": {},
   "outputs": [],
   "source": [
    "#all instantiation of classes goes here\n",
    "fake = Faker()"
   ]
  },
  {
   "cell_type": "code",
   "execution_count": 74,
   "metadata": {},
   "outputs": [
    {
     "name": "stdout",
     "output_type": "stream",
     "text": [
      "0.0006927830001926127\n"
     ]
    }
   ],
   "source": [
    "#the rand factor is used for deviation in the path of the flight\n",
    "rand_factor = 1/100       # 1/100 will include a maximum noice of 1000 Mts (basically rand_factor*1L)\n",
    "print(random.random()*rand_factor)"
   ]
  },
  {
   "cell_type": "code",
   "execution_count": 75,
   "metadata": {},
   "outputs": [
    {
     "name": "stdout",
     "output_type": "stream",
     "text": [
      "Give the corresponding values\n",
      "<lat,lon,alt pairs> <totaltime in s> <total datapoints>\n"
     ]
    }
   ],
   "source": [
    "print(\"Give the corresponding values\")\n",
    "print(\"<lat,lon,alt pairs> <totaltime in s> <total datapoints>\")\n",
    "# ipt = input()\n",
    "# [m,t,n] = ipt.split(\" \")\n",
    "# m = int(m)\n",
    "# t = int(t)\n",
    "# n = int(n)\n",
    "timestep = 1\n",
    "man_steps = 5\n",
    "m = 20\n",
    "t = 3600\n",
    "# n = 3600\n",
    "speed = 1000 / 100000\n",
    "avg_alt = 5000 / 100000\n",
    "alt_var = 250 / 100000\n",
    "take_off = False\n",
    "maneuver = 0 #To be given a value between 0 and 1 like a boolean and intermediate values will define that much degree of maneuver\n",
    "fighter = True\n",
    "maneuver_fact = maneuver * 2 / 1000\n",
    "maneuver_prob = 0 #set this to be the number of times your plane has to maneuver per 1 move setting this to zero will make no maneuver and 1 will make random motion towards the target dest\n",
    "regular_time = True"
   ]
  },
  {
   "cell_type": "code",
   "execution_count": 76,
   "metadata": {},
   "outputs": [
    {
     "name": "stdout",
     "output_type": "stream",
     "text": [
      "-76.8091885 -2.851169 34.1158955 165.838667\n"
     ]
    }
   ],
   "source": [
    "#defining the source and destination in a random manner for now\n",
    "#can be changed to some other method to make it some other small distance flyable objects\n",
    "src_lat, src_lon , d_lat , d_lon = float(fake.latitude()), float(fake.longitude()), float(fake.latitude()), float(fake.longitude())\n",
    "print(src_lat, src_lon , d_lat , d_lon)"
   ]
  },
  {
   "cell_type": "code",
   "execution_count": 77,
   "metadata": {},
   "outputs": [],
   "source": [
    "#defining the path of latitude\n",
    "def calc_pos(src_lat,src_lon,d_lat,d_lon):\n",
    "    pts_lat=[src_lat]\n",
    "    pts_lon=[src_lon]\n",
    "    for i in range(m):\n",
    "        new_src_lon = src_lon+(d_lon-src_lon+random.random()*rand_factor)/(m-i+1)\n",
    "        pts_lon.append(new_src_lon)\n",
    "        src_lon = new_src_lon\n",
    "        new_src_lat = src_lat+(d_lat-src_lat+random.random()*rand_factor)/(m-i+1)\n",
    "        pts_lat.append(new_src_lat)\n",
    "        if(is_close([pts_lat[-1],pts_lon[-1],0,pts_lat[-2],pts_lon[-2],0])):\n",
    "            return [[],[]]\n",
    "        else:\n",
    "            res = calc_pos(pts_lat[-1],pts_lon[-1],pts_lat[-2],pts_lon[-2])\n",
    "            pts_lat.extend(res[0])\n",
    "            pts_lon.extend(res[1])\n",
    "        src_lat = new_src_lat\n",
    "    pts_lat.append(d_lat)\n",
    "    pts_lon.append(d_lon)\n",
    "    return [pts_lat,pts_lon]"
   ]
  },
  {
   "cell_type": "code",
   "execution_count": null,
   "metadata": {},
   "outputs": [],
   "source": [
    "print (calc_pos(src_lat, src_lon , d_lat , d_lon))"
   ]
  },
  {
   "cell_type": "code",
   "execution_count": 63,
   "metadata": {},
   "outputs": [
    {
     "name": "stdout",
     "output_type": "stream",
     "text": [
      "========================(-6.851403604824257, -171.7434332120413)=========================================\n",
      "========================(-6.6941681664600825, -171.95283258796468)=========================================\n",
      "========================(-6.537333354646198, -172.1624165139158)=========================================\n",
      "========================(-6.380303472776102, -172.37197612353881)=========================================\n",
      "========================(-6.223443213172418, -172.58161755518466)=========================================\n",
      "========================(-6.06635132535415, -172.7910285646842)=========================================\n",
      "========================(-5.9095296996053746, -173.00027561078127)=========================================\n",
      "========================(-5.752351475868636, -173.20960927471407)=========================================\n",
      "========================(-5.594993274325752, -173.41916210979562)=========================================\n",
      "========================(-5.437821033768976, -173.62825469311406)=========================================\n",
      "========================(-5.280630709655193, -173.837531742026)=========================================\n",
      "========================(-5.1238772279835, -174.04718030394096)=========================================\n",
      "========================(-4.967243035522218, -174.25700786094964)=========================================\n",
      "========================(-4.810083856467694, -174.46576777388938)=========================================\n",
      "========================(-4.652882412844929, -174.67473434038868)=========================================\n",
      "========================(-4.495396711287898, -174.88360210143313)=========================================\n",
      "========================(-4.338864255152677, -175.09303426749352)=========================================\n",
      "========================(-4.180968871736332, -175.3028011977124)=========================================\n",
      "========================(-4.0237765767491425, -175.51111849617237)=========================================\n",
      "========================(-3.8685776798215286, -175.72078500757902)=========================================\n",
      "========================(-3.710556067888167, -175.93054763689543)=========================================\n"
     ]
    }
   ],
   "source": [
    "orig_lat = []\n",
    "orig_lon = []\n",
    "orig_alt = []\n",
    "alt_src = avg_alt + (random.random()-0.5)*2*alt_var\n",
    "if(take_off == False):\n",
    "    vel = [random.random()*speed,None,0]\n",
    "    vel[1] = np.sqrt(speed - np.square(vel[0]))\n",
    "#     vel = [0,0,0]\n",
    "#     print(vel)\n",
    "    acc = [0,0,0]\n",
    "    for i in range(len(pts_lat)-1):\n",
    "        # print(pts_lat[i],pts_lat[i+1])\n",
    "        alt_dst = avg_alt + (random.random()-0.5)*2*alt_var\n",
    "        pos = [pts_lat[i],pts_lon[i],alt_src,pts_lat[i+1],pts_lon[i+1],alt_dst]\n",
    "#         print(pos,vel,acc,speed,maneuver_prob,maneuver_fact)\n",
    "        print(\"========================\"+str((pts_lat[i],pts_lon[i]))+\"=========================================\")\n",
    "        res = intrapol(pos,vel,acc,speed,maneuver_prob,maneuver_fact,0)\n",
    "        vel = res[\"vel\"]\n",
    "        vect = res[\"pos\"]\n",
    "        orig_lat.extend(vect[0])\n",
    "        orig_lon.extend(vect[1])\n",
    "        orig_alt.extend(vect[2])\n",
    "        \n",
    "else:\n",
    "    for i in range(len(pts_lat)-3):\n",
    "        pass\n",
    "# print(len(orig_lat))"
   ]
  },
  {
   "cell_type": "code",
   "execution_count": 64,
   "metadata": {},
   "outputs": [
    {
     "name": "stdout",
     "output_type": "stream",
     "text": [
      "(42, 4)\n"
     ]
    }
   ],
   "source": [
    "data = np.array([range(1,len(orig_alt)+1),orig_lat,orig_lon,orig_alt])\n",
    "data = np.transpose(data)\n",
    "print(data.shape)\n",
    "data = np.multiply(data,[timestep,1,1,100000])\n",
    "# print (data)"
   ]
  },
  {
   "cell_type": "code",
   "execution_count": 27,
   "metadata": {},
   "outputs": [
    {
     "name": "stdout",
     "output_type": "stream",
     "text": [
      "     time(in s)        lat        lon          alt\n",
      "0           1.0  56.203319  10.221528  4865.144611\n",
      "1           2.0  56.206721  10.321470  4865.144611\n",
      "2           3.0  56.210125  10.421412  4864.677128\n",
      "3           4.0  56.213524  10.521357  4864.587426\n",
      "4           5.0  56.216921  10.621307  4864.014797\n",
      "..          ...        ...        ...          ...\n",
      "142       143.0  40.605228  32.290117  4874.478022\n",
      "143       144.0  40.608640  32.390033  4879.615250\n",
      "144       145.0  40.612056  32.489949  4884.833896\n",
      "145       146.0  40.615474  32.589863  4890.159974\n",
      "146       147.0  39.815008  33.178559  5060.004774\n",
      "\n",
      "[147 rows x 4 columns]\n"
     ]
    }
   ],
   "source": [
    "d = pd.DataFrame(data=data,columns = [\"time(in s)\",\"lat\",\"lon\",\"alt\"])\n",
    "print (d)\n",
    "d.to_csv('t11.csv', sep=\",\", index=False)\n",
    "# with open('t10.csv', 'w', newline='') as file:\n",
    "#     writer = csv.writer(file)\n",
    "# #     writer.head()\n",
    "#     writer.writerows(d) #, fieldnames = [\"time\",\"lat\",\"lon\",\"alt\"]"
   ]
  },
  {
   "cell_type": "code",
   "execution_count": null,
   "metadata": {},
   "outputs": [],
   "source": []
  },
  {
   "cell_type": "code",
   "execution_count": null,
   "metadata": {},
   "outputs": [],
   "source": []
  },
  {
   "cell_type": "code",
   "execution_count": null,
   "metadata": {},
   "outputs": [],
   "source": []
  }
 ],
 "metadata": {
  "kernelspec": {
   "display_name": "Python 3",
   "language": "python",
   "name": "python3"
  },
  "language_info": {
   "codemirror_mode": {
    "name": "ipython",
    "version": 3
   },
   "file_extension": ".py",
   "mimetype": "text/x-python",
   "name": "python",
   "nbconvert_exporter": "python",
   "pygments_lexer": "ipython3",
   "version": "3.8.3"
  }
 },
 "nbformat": 4,
 "nbformat_minor": 4
}
