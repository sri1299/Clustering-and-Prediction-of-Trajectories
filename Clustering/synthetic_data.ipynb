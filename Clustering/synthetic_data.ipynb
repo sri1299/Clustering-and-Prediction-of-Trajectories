{
 "cells": [
  {
   "cell_type": "code",
   "execution_count": 17,
   "metadata": {
    "ExecuteTime": {
     "end_time": "2020-08-01T11:59:18.159020Z",
     "start_time": "2020-08-01T11:59:18.154745Z"
    }
   },
   "outputs": [],
   "source": [
    "import pandas as pd\n",
    "import numpy as np"
   ]
  },
  {
   "cell_type": "code",
   "execution_count": 18,
   "metadata": {
    "ExecuteTime": {
     "end_time": "2020-08-01T11:59:18.865872Z",
     "start_time": "2020-08-01T11:59:18.841742Z"
    }
   },
   "outputs": [],
   "source": [
    "df = pd.read_csv('features_only.csv')"
   ]
  },
  {
   "cell_type": "code",
   "execution_count": 19,
   "metadata": {
    "ExecuteTime": {
     "end_time": "2020-08-01T11:59:19.506946Z",
     "start_time": "2020-08-01T11:59:19.478648Z"
    }
   },
   "outputs": [
    {
     "data": {
      "text/html": [
       "<div>\n",
       "<style scoped>\n",
       "    .dataframe tbody tr th:only-of-type {\n",
       "        vertical-align: middle;\n",
       "    }\n",
       "\n",
       "    .dataframe tbody tr th {\n",
       "        vertical-align: top;\n",
       "    }\n",
       "\n",
       "    .dataframe thead th {\n",
       "        text-align: right;\n",
       "    }\n",
       "</style>\n",
       "<table border=\"1\" class=\"dataframe\">\n",
       "  <thead>\n",
       "    <tr style=\"text-align: right;\">\n",
       "      <th></th>\n",
       "      <th>alt_max</th>\n",
       "      <th>up_acc</th>\n",
       "      <th>down_acc</th>\n",
       "      <th>horiz_speed</th>\n",
       "      <th>dist</th>\n",
       "    </tr>\n",
       "  </thead>\n",
       "  <tbody>\n",
       "    <tr>\n",
       "      <th>0</th>\n",
       "      <td>282.0</td>\n",
       "      <td>1.477734</td>\n",
       "      <td>0</td>\n",
       "      <td>0.000337</td>\n",
       "      <td>0.168403</td>\n",
       "    </tr>\n",
       "    <tr>\n",
       "      <th>1</th>\n",
       "      <td>11582.0</td>\n",
       "      <td>828.523214</td>\n",
       "      <td>0</td>\n",
       "      <td>0.001202</td>\n",
       "      <td>13.471673</td>\n",
       "    </tr>\n",
       "    <tr>\n",
       "      <th>2</th>\n",
       "      <td>3635.0</td>\n",
       "      <td>2.462938</td>\n",
       "      <td>0</td>\n",
       "      <td>0.000939</td>\n",
       "      <td>1.500911</td>\n",
       "    </tr>\n",
       "    <tr>\n",
       "      <th>3</th>\n",
       "      <td>671.0</td>\n",
       "      <td>2.660062</td>\n",
       "      <td>0</td>\n",
       "      <td>0.000984</td>\n",
       "      <td>0.971866</td>\n",
       "    </tr>\n",
       "    <tr>\n",
       "      <th>4</th>\n",
       "      <td>503.0</td>\n",
       "      <td>1.322992</td>\n",
       "      <td>0</td>\n",
       "      <td>0.000508</td>\n",
       "      <td>0.171951</td>\n",
       "    </tr>\n",
       "    <tr>\n",
       "      <th>...</th>\n",
       "      <td>...</td>\n",
       "      <td>...</td>\n",
       "      <td>...</td>\n",
       "      <td>...</td>\n",
       "      <td>...</td>\n",
       "    </tr>\n",
       "    <tr>\n",
       "      <th>6860</th>\n",
       "      <td>8847.0</td>\n",
       "      <td>6.736619</td>\n",
       "      <td>0</td>\n",
       "      <td>0.001196</td>\n",
       "      <td>4.656087</td>\n",
       "    </tr>\n",
       "    <tr>\n",
       "      <th>6861</th>\n",
       "      <td>9456.0</td>\n",
       "      <td>4.859142</td>\n",
       "      <td>0</td>\n",
       "      <td>0.001344</td>\n",
       "      <td>8.096528</td>\n",
       "    </tr>\n",
       "    <tr>\n",
       "      <th>6862</th>\n",
       "      <td>10668.0</td>\n",
       "      <td>3.394605</td>\n",
       "      <td>0</td>\n",
       "      <td>0.002190</td>\n",
       "      <td>180.915035</td>\n",
       "    </tr>\n",
       "    <tr>\n",
       "      <th>6863</th>\n",
       "      <td>9190.0</td>\n",
       "      <td>5.306566</td>\n",
       "      <td>0</td>\n",
       "      <td>0.001923</td>\n",
       "      <td>10.123814</td>\n",
       "    </tr>\n",
       "    <tr>\n",
       "      <th>6864</th>\n",
       "      <td>10058.0</td>\n",
       "      <td>5.464560</td>\n",
       "      <td>0</td>\n",
       "      <td>0.001188</td>\n",
       "      <td>6.544418</td>\n",
       "    </tr>\n",
       "  </tbody>\n",
       "</table>\n",
       "<p>6865 rows × 5 columns</p>\n",
       "</div>"
      ],
      "text/plain": [
       "      alt_max      up_acc  down_acc  horiz_speed        dist\n",
       "0       282.0    1.477734         0     0.000337    0.168403\n",
       "1     11582.0  828.523214         0     0.001202   13.471673\n",
       "2      3635.0    2.462938         0     0.000939    1.500911\n",
       "3       671.0    2.660062         0     0.000984    0.971866\n",
       "4       503.0    1.322992         0     0.000508    0.171951\n",
       "...       ...         ...       ...          ...         ...\n",
       "6860   8847.0    6.736619         0     0.001196    4.656087\n",
       "6861   9456.0    4.859142         0     0.001344    8.096528\n",
       "6862  10668.0    3.394605         0     0.002190  180.915035\n",
       "6863   9190.0    5.306566         0     0.001923   10.123814\n",
       "6864  10058.0    5.464560         0     0.001188    6.544418\n",
       "\n",
       "[6865 rows x 5 columns]"
      ]
     },
     "execution_count": 19,
     "metadata": {},
     "output_type": "execute_result"
    }
   ],
   "source": [
    "df"
   ]
  },
  {
   "cell_type": "code",
   "execution_count": 20,
   "metadata": {
    "ExecuteTime": {
     "end_time": "2020-08-01T11:59:20.243594Z",
     "start_time": "2020-08-01T11:59:20.239739Z"
    }
   },
   "outputs": [],
   "source": [
    "df['horiz_speed'] *= 111000\n",
    "df['dist'] *= 111000"
   ]
  },
  {
   "cell_type": "code",
   "execution_count": 21,
   "metadata": {
    "ExecuteTime": {
     "end_time": "2020-08-01T11:59:21.616590Z",
     "start_time": "2020-08-01T11:59:21.613496Z"
    }
   },
   "outputs": [],
   "source": [
    "def generate(l, m, n):\n",
    "    data = []\n",
    "    for i,j in zip(l, m):\n",
    "        data.append(np.random.normal(i, j, n))\n",
    "    return data"
   ]
  },
  {
   "cell_type": "code",
   "execution_count": 22,
   "metadata": {
    "ExecuteTime": {
     "end_time": "2020-08-01T11:59:22.436987Z",
     "start_time": "2020-08-01T11:59:22.428868Z"
    }
   },
   "outputs": [],
   "source": [
    "drone_data = generate([75, 0.5, -0.5, 3, 2e3], [25, 0.05, 0.05, 1, 1e3], 2000)"
   ]
  },
  {
   "cell_type": "code",
   "execution_count": 23,
   "metadata": {
    "ExecuteTime": {
     "end_time": "2020-08-01T11:59:23.419896Z",
     "start_time": "2020-08-01T11:59:23.243109Z"
    }
   },
   "outputs": [],
   "source": [
    "dropped_bomb = generate([800, 0, -10, 0.3, 100], [300, 0, 0.5, 0.1, 50], 2000)"
   ]
  },
  {
   "cell_type": "code",
   "execution_count": 24,
   "metadata": {
    "ExecuteTime": {
     "end_time": "2020-08-01T11:59:24.040023Z",
     "start_time": "2020-08-01T11:59:24.025891Z"
    }
   },
   "outputs": [],
   "source": [
    "missile = generate([3000, 5, -8, 3000, 3e5], [300, 2, 2, 500, 1e5], 200)"
   ]
  },
  {
   "cell_type": "code",
   "execution_count": 25,
   "metadata": {
    "ExecuteTime": {
     "end_time": "2020-08-01T11:59:25.281066Z",
     "start_time": "2020-08-01T11:59:25.277325Z"
    }
   },
   "outputs": [],
   "source": [
    "df1 = pd.DataFrame()\n",
    "df2 = pd.DataFrame()\n",
    "df3 = pd.DataFrame()"
   ]
  },
  {
   "cell_type": "code",
   "execution_count": 26,
   "metadata": {
    "ExecuteTime": {
     "end_time": "2020-08-01T11:59:25.944492Z",
     "start_time": "2020-08-01T11:59:25.931653Z"
    }
   },
   "outputs": [],
   "source": [
    "for i, x in enumerate(['alt_max', 'vert_speed','horiz_speed', 'dist']):\n",
    "        df1[x] = drone_data[i]\n",
    "for i, x in enumerate(['alt_max', 'vert_speed','horiz_speed', 'dist']):\n",
    "        df2[x] = dropped_bomb[i]\n",
    "for i, x in enumerate(['alt_max', 'vert_speed','horiz_speed', 'dist']):\n",
    "        df3[x] = missile[i]"
   ]
  },
  {
   "cell_type": "code",
   "execution_count": 27,
   "metadata": {
    "ExecuteTime": {
     "end_time": "2020-08-01T11:59:27.022037Z",
     "start_time": "2020-08-01T11:59:27.014454Z"
    }
   },
   "outputs": [],
   "source": [
    "df = df.append(df1)"
   ]
  },
  {
   "cell_type": "code",
   "execution_count": 28,
   "metadata": {
    "ExecuteTime": {
     "end_time": "2020-08-01T11:59:27.788145Z",
     "start_time": "2020-08-01T11:59:27.782477Z"
    }
   },
   "outputs": [],
   "source": [
    "df = df.append(df2)"
   ]
  },
  {
   "cell_type": "code",
   "execution_count": 29,
   "metadata": {
    "ExecuteTime": {
     "end_time": "2020-08-01T11:59:28.452978Z",
     "start_time": "2020-08-01T11:59:28.437863Z"
    }
   },
   "outputs": [],
   "source": [
    "df = df.append(df3)"
   ]
  },
  {
   "cell_type": "code",
   "execution_count": 15,
   "metadata": {
    "ExecuteTime": {
     "end_time": "2020-08-01T11:56:20.099930Z",
     "start_time": "2020-08-01T11:56:20.094080Z"
    }
   },
   "outputs": [],
   "source": [
    "data_matrix = np.asarray(df.values)"
   ]
  },
  {
   "cell_type": "code",
   "execution_count": null,
   "metadata": {
    "ExecuteTime": {
     "end_time": "2020-08-01T10:48:08.652682Z",
     "start_time": "2020-08-01T10:48:08.569202Z"
    }
   },
   "outputs": [],
   "source": [
    "data_matrix"
   ]
  },
  {
   "cell_type": "code",
   "execution_count": 30,
   "metadata": {
    "ExecuteTime": {
     "end_time": "2020-08-01T11:59:30.254281Z",
     "start_time": "2020-08-01T11:59:30.179504Z"
    }
   },
   "outputs": [],
   "source": [
    "df.to_csv('features_only_updated2.csv', index = False)"
   ]
  },
  {
   "cell_type": "code",
   "execution_count": null,
   "metadata": {},
   "outputs": [],
   "source": []
  },
  {
   "cell_type": "code",
   "execution_count": null,
   "metadata": {},
   "outputs": [],
   "source": []
  },
  {
   "cell_type": "code",
   "execution_count": null,
   "metadata": {},
   "outputs": [],
   "source": []
  },
  {
   "cell_type": "code",
   "execution_count": null,
   "metadata": {},
   "outputs": [],
   "source": []
  },
  {
   "cell_type": "code",
   "execution_count": null,
   "metadata": {},
   "outputs": [],
   "source": []
  }
 ],
 "metadata": {
  "kernelspec": {
   "display_name": "Python 3",
   "language": "python",
   "name": "python3"
  },
  "language_info": {
   "codemirror_mode": {
    "name": "ipython",
    "version": 3
   },
   "file_extension": ".py",
   "mimetype": "text/x-python",
   "name": "python",
   "nbconvert_exporter": "python",
   "pygments_lexer": "ipython3",
   "version": "3.7.4"
  }
 },
 "nbformat": 4,
 "nbformat_minor": 2
}
