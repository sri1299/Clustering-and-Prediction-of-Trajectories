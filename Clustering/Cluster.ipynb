{
 "cells": [
  {
   "cell_type": "code",
   "execution_count": 1,
   "metadata": {
    "ExecuteTime": {
     "end_time": "2020-08-03T09:08:26.344281Z",
     "start_time": "2020-08-03T09:08:25.761038Z"
    }
   },
   "outputs": [],
   "source": [
    "import pandas as pd\n",
    "import numpy as np\n",
    "import sklearn.cluster as sklc\n",
    "from sklearn.preprocessing import MinMaxScaler\n",
    "from sklearn.manifold import TSNE"
   ]
  },
  {
   "cell_type": "code",
   "execution_count": 2,
   "metadata": {
    "ExecuteTime": {
     "end_time": "2020-08-03T09:08:26.384089Z",
     "start_time": "2020-08-03T09:08:26.346222Z"
    }
   },
   "outputs": [],
   "source": [
    "df = pd.read_csv('features.csv')"
   ]
  },
  {
   "cell_type": "code",
   "execution_count": 3,
   "metadata": {
    "ExecuteTime": {
     "end_time": "2020-08-03T09:08:26.443982Z",
     "start_time": "2020-08-03T09:08:26.385845Z"
    }
   },
   "outputs": [
    {
     "data": {
      "text/html": [
       "<div>\n",
       "<style scoped>\n",
       "    .dataframe tbody tr th:only-of-type {\n",
       "        vertical-align: middle;\n",
       "    }\n",
       "\n",
       "    .dataframe tbody tr th {\n",
       "        vertical-align: top;\n",
       "    }\n",
       "\n",
       "    .dataframe thead th {\n",
       "        text-align: right;\n",
       "    }\n",
       "</style>\n",
       "<table border=\"1\" class=\"dataframe\">\n",
       "  <thead>\n",
       "    <tr style=\"text-align: right;\">\n",
       "      <th></th>\n",
       "      <th>fname</th>\n",
       "      <th>alt_max</th>\n",
       "      <th>vert_acc</th>\n",
       "      <th>horiz_speed</th>\n",
       "      <th>dist</th>\n",
       "      <th>is_maneuver</th>\n",
       "      <th>rcs</th>\n",
       "    </tr>\n",
       "  </thead>\n",
       "  <tbody>\n",
       "    <tr>\n",
       "      <th>0</th>\n",
       "      <td>./data/traj02.csv</td>\n",
       "      <td>8274.327328</td>\n",
       "      <td>-0.304531</td>\n",
       "      <td>3078.942857</td>\n",
       "      <td>20.906922</td>\n",
       "      <td>1</td>\n",
       "      <td>69.952993</td>\n",
       "    </tr>\n",
       "    <tr>\n",
       "      <th>1</th>\n",
       "      <td>./data/traj03.csv</td>\n",
       "      <td>8329.930527</td>\n",
       "      <td>0.038225</td>\n",
       "      <td>1884.674858</td>\n",
       "      <td>10.305852</td>\n",
       "      <td>1</td>\n",
       "      <td>81.733552</td>\n",
       "    </tr>\n",
       "    <tr>\n",
       "      <th>2</th>\n",
       "      <td>./data/traj04.csv</td>\n",
       "      <td>8291.285689</td>\n",
       "      <td>-0.384100</td>\n",
       "      <td>1882.693659</td>\n",
       "      <td>11.836522</td>\n",
       "      <td>1</td>\n",
       "      <td>80.851593</td>\n",
       "    </tr>\n",
       "    <tr>\n",
       "      <th>3</th>\n",
       "      <td>./data/traj05.csv</td>\n",
       "      <td>8280.694341</td>\n",
       "      <td>1.016257</td>\n",
       "      <td>1245.357077</td>\n",
       "      <td>6.527431</td>\n",
       "      <td>1</td>\n",
       "      <td>75.857357</td>\n",
       "    </tr>\n",
       "    <tr>\n",
       "      <th>4</th>\n",
       "      <td>./data/traj06.csv</td>\n",
       "      <td>8353.424287</td>\n",
       "      <td>-0.044607</td>\n",
       "      <td>2297.555352</td>\n",
       "      <td>15.443727</td>\n",
       "      <td>1</td>\n",
       "      <td>77.177848</td>\n",
       "    </tr>\n",
       "    <tr>\n",
       "      <th>5</th>\n",
       "      <td>./data/traj07.csv</td>\n",
       "      <td>8318.048355</td>\n",
       "      <td>-0.181455</td>\n",
       "      <td>7186.016059</td>\n",
       "      <td>30.272157</td>\n",
       "      <td>1</td>\n",
       "      <td>87.900108</td>\n",
       "    </tr>\n",
       "    <tr>\n",
       "      <th>6</th>\n",
       "      <td>./data/traj08.csv</td>\n",
       "      <td>8269.332899</td>\n",
       "      <td>-0.042418</td>\n",
       "      <td>5227.561595</td>\n",
       "      <td>27.218390</td>\n",
       "      <td>1</td>\n",
       "      <td>80.573815</td>\n",
       "    </tr>\n",
       "    <tr>\n",
       "      <th>7</th>\n",
       "      <td>./data/traj09.csv</td>\n",
       "      <td>8241.180683</td>\n",
       "      <td>0.241187</td>\n",
       "      <td>2438.956013</td>\n",
       "      <td>4.150869</td>\n",
       "      <td>1</td>\n",
       "      <td>81.842127</td>\n",
       "    </tr>\n",
       "    <tr>\n",
       "      <th>8</th>\n",
       "      <td>./data/traj10.csv</td>\n",
       "      <td>8296.437999</td>\n",
       "      <td>-0.198269</td>\n",
       "      <td>3336.196525</td>\n",
       "      <td>19.508315</td>\n",
       "      <td>1</td>\n",
       "      <td>84.096280</td>\n",
       "    </tr>\n",
       "    <tr>\n",
       "      <th>9</th>\n",
       "      <td>./data/traj12.csv</td>\n",
       "      <td>3347.743074</td>\n",
       "      <td>2.406948</td>\n",
       "      <td>1056.276914</td>\n",
       "      <td>1.332238</td>\n",
       "      <td>1</td>\n",
       "      <td>3.341739</td>\n",
       "    </tr>\n",
       "    <tr>\n",
       "      <th>10</th>\n",
       "      <td>./data/traj13.csv</td>\n",
       "      <td>3277.436031</td>\n",
       "      <td>0.869041</td>\n",
       "      <td>935.061059</td>\n",
       "      <td>1.550007</td>\n",
       "      <td>1</td>\n",
       "      <td>2.738605</td>\n",
       "    </tr>\n",
       "    <tr>\n",
       "      <th>11</th>\n",
       "      <td>./data/traj14.csv</td>\n",
       "      <td>3290.486157</td>\n",
       "      <td>-1.929946</td>\n",
       "      <td>1142.164991</td>\n",
       "      <td>1.687517</td>\n",
       "      <td>1</td>\n",
       "      <td>3.374255</td>\n",
       "    </tr>\n",
       "    <tr>\n",
       "      <th>12</th>\n",
       "      <td>./data/traj15.csv</td>\n",
       "      <td>3269.088103</td>\n",
       "      <td>-0.417205</td>\n",
       "      <td>824.552150</td>\n",
       "      <td>1.812515</td>\n",
       "      <td>1</td>\n",
       "      <td>3.012826</td>\n",
       "    </tr>\n",
       "    <tr>\n",
       "      <th>13</th>\n",
       "      <td>./data/traj16.csv</td>\n",
       "      <td>3314.500261</td>\n",
       "      <td>-0.224652</td>\n",
       "      <td>794.924374</td>\n",
       "      <td>1.962189</td>\n",
       "      <td>1</td>\n",
       "      <td>3.237664</td>\n",
       "    </tr>\n",
       "    <tr>\n",
       "      <th>14</th>\n",
       "      <td>./data/traj17.csv</td>\n",
       "      <td>3238.336131</td>\n",
       "      <td>-1.493588</td>\n",
       "      <td>916.158808</td>\n",
       "      <td>1.840450</td>\n",
       "      <td>1</td>\n",
       "      <td>2.485557</td>\n",
       "    </tr>\n",
       "    <tr>\n",
       "      <th>15</th>\n",
       "      <td>./data/traj18.csv</td>\n",
       "      <td>3175.896593</td>\n",
       "      <td>-2.923538</td>\n",
       "      <td>1426.948706</td>\n",
       "      <td>0.745613</td>\n",
       "      <td>1</td>\n",
       "      <td>2.856744</td>\n",
       "    </tr>\n",
       "    <tr>\n",
       "      <th>16</th>\n",
       "      <td>./data/traj19.csv</td>\n",
       "      <td>3259.534967</td>\n",
       "      <td>0.493730</td>\n",
       "      <td>907.258508</td>\n",
       "      <td>1.626505</td>\n",
       "      <td>1</td>\n",
       "      <td>3.496616</td>\n",
       "    </tr>\n",
       "    <tr>\n",
       "      <th>17</th>\n",
       "      <td>./data/traj20.csv</td>\n",
       "      <td>3235.255859</td>\n",
       "      <td>-0.988119</td>\n",
       "      <td>915.939460</td>\n",
       "      <td>1.592567</td>\n",
       "      <td>1</td>\n",
       "      <td>2.762914</td>\n",
       "    </tr>\n",
       "    <tr>\n",
       "      <th>18</th>\n",
       "      <td>./data/traj22.csv</td>\n",
       "      <td>46359.963936</td>\n",
       "      <td>-10.000000</td>\n",
       "      <td>36.173055</td>\n",
       "      <td>0.031589</td>\n",
       "      <td>0</td>\n",
       "      <td>0.011054</td>\n",
       "    </tr>\n",
       "    <tr>\n",
       "      <th>19</th>\n",
       "      <td>./data/traj23.csv</td>\n",
       "      <td>46359.963936</td>\n",
       "      <td>-10.000000</td>\n",
       "      <td>157.976166</td>\n",
       "      <td>0.137656</td>\n",
       "      <td>0</td>\n",
       "      <td>0.010201</td>\n",
       "    </tr>\n",
       "    <tr>\n",
       "      <th>20</th>\n",
       "      <td>./data/traj24.csv</td>\n",
       "      <td>46359.963936</td>\n",
       "      <td>-10.000000</td>\n",
       "      <td>147.797472</td>\n",
       "      <td>0.129048</td>\n",
       "      <td>0</td>\n",
       "      <td>0.011030</td>\n",
       "    </tr>\n",
       "    <tr>\n",
       "      <th>21</th>\n",
       "      <td>./data/traj25.csv</td>\n",
       "      <td>46359.963936</td>\n",
       "      <td>-10.000000</td>\n",
       "      <td>177.794466</td>\n",
       "      <td>0.154282</td>\n",
       "      <td>0</td>\n",
       "      <td>0.009682</td>\n",
       "    </tr>\n",
       "    <tr>\n",
       "      <th>22</th>\n",
       "      <td>./data/traj26.csv</td>\n",
       "      <td>46359.963936</td>\n",
       "      <td>-10.000000</td>\n",
       "      <td>283.251287</td>\n",
       "      <td>0.247526</td>\n",
       "      <td>0</td>\n",
       "      <td>0.010369</td>\n",
       "    </tr>\n",
       "    <tr>\n",
       "      <th>23</th>\n",
       "      <td>./data/traj27.csv</td>\n",
       "      <td>46359.963936</td>\n",
       "      <td>-10.000000</td>\n",
       "      <td>98.382428</td>\n",
       "      <td>0.085969</td>\n",
       "      <td>0</td>\n",
       "      <td>0.009948</td>\n",
       "    </tr>\n",
       "    <tr>\n",
       "      <th>24</th>\n",
       "      <td>./data/traj28.csv</td>\n",
       "      <td>46359.963936</td>\n",
       "      <td>-10.000000</td>\n",
       "      <td>224.191741</td>\n",
       "      <td>0.195545</td>\n",
       "      <td>0</td>\n",
       "      <td>0.011241</td>\n",
       "    </tr>\n",
       "    <tr>\n",
       "      <th>25</th>\n",
       "      <td>./data/traj29.csv</td>\n",
       "      <td>46359.963936</td>\n",
       "      <td>-10.000000</td>\n",
       "      <td>176.655791</td>\n",
       "      <td>0.154355</td>\n",
       "      <td>0</td>\n",
       "      <td>0.010125</td>\n",
       "    </tr>\n",
       "    <tr>\n",
       "      <th>26</th>\n",
       "      <td>./data/traj30.csv</td>\n",
       "      <td>46359.963936</td>\n",
       "      <td>-10.000000</td>\n",
       "      <td>123.470596</td>\n",
       "      <td>0.107887</td>\n",
       "      <td>0</td>\n",
       "      <td>0.009198</td>\n",
       "    </tr>\n",
       "    <tr>\n",
       "      <th>27</th>\n",
       "      <td>./data/traj32.csv</td>\n",
       "      <td>8922.800310</td>\n",
       "      <td>0.047016</td>\n",
       "      <td>2591.047765</td>\n",
       "      <td>12.453332</td>\n",
       "      <td>1</td>\n",
       "      <td>0.099814</td>\n",
       "    </tr>\n",
       "    <tr>\n",
       "      <th>28</th>\n",
       "      <td>./data/traj33.csv</td>\n",
       "      <td>8332.456791</td>\n",
       "      <td>0.005385</td>\n",
       "      <td>3320.028607</td>\n",
       "      <td>18.732321</td>\n",
       "      <td>1</td>\n",
       "      <td>0.109368</td>\n",
       "    </tr>\n",
       "    <tr>\n",
       "      <th>29</th>\n",
       "      <td>./data/traj34.csv</td>\n",
       "      <td>8381.016382</td>\n",
       "      <td>-0.026533</td>\n",
       "      <td>2529.797171</td>\n",
       "      <td>11.129214</td>\n",
       "      <td>1</td>\n",
       "      <td>0.101304</td>\n",
       "    </tr>\n",
       "    <tr>\n",
       "      <th>30</th>\n",
       "      <td>./data/traj35.csv</td>\n",
       "      <td>8721.381821</td>\n",
       "      <td>0.032069</td>\n",
       "      <td>3057.800609</td>\n",
       "      <td>17.997414</td>\n",
       "      <td>1</td>\n",
       "      <td>0.097943</td>\n",
       "    </tr>\n",
       "    <tr>\n",
       "      <th>31</th>\n",
       "      <td>./data/traj36.csv</td>\n",
       "      <td>9507.677763</td>\n",
       "      <td>0.071087</td>\n",
       "      <td>2596.485527</td>\n",
       "      <td>11.826730</td>\n",
       "      <td>1</td>\n",
       "      <td>0.106047</td>\n",
       "    </tr>\n",
       "    <tr>\n",
       "      <th>32</th>\n",
       "      <td>./data/traj37.csv</td>\n",
       "      <td>9622.411484</td>\n",
       "      <td>-0.072419</td>\n",
       "      <td>4527.263616</td>\n",
       "      <td>21.163902</td>\n",
       "      <td>1</td>\n",
       "      <td>0.096820</td>\n",
       "    </tr>\n",
       "    <tr>\n",
       "      <th>33</th>\n",
       "      <td>./data/traj38.csv</td>\n",
       "      <td>9216.151353</td>\n",
       "      <td>0.042063</td>\n",
       "      <td>2666.257582</td>\n",
       "      <td>9.196222</td>\n",
       "      <td>1</td>\n",
       "      <td>0.100865</td>\n",
       "    </tr>\n",
       "    <tr>\n",
       "      <th>34</th>\n",
       "      <td>./data/traj39.csv</td>\n",
       "      <td>8688.720129</td>\n",
       "      <td>-0.045365</td>\n",
       "      <td>3359.109319</td>\n",
       "      <td>20.568845</td>\n",
       "      <td>1</td>\n",
       "      <td>0.111056</td>\n",
       "    </tr>\n",
       "    <tr>\n",
       "      <th>35</th>\n",
       "      <td>./data/traj40.csv</td>\n",
       "      <td>9629.950692</td>\n",
       "      <td>-0.016898</td>\n",
       "      <td>3329.367971</td>\n",
       "      <td>17.989736</td>\n",
       "      <td>1</td>\n",
       "      <td>0.113863</td>\n",
       "    </tr>\n",
       "    <tr>\n",
       "      <th>36</th>\n",
       "      <td>./data/traj52.csv</td>\n",
       "      <td>5158.342804</td>\n",
       "      <td>0.003542</td>\n",
       "      <td>1387.542779</td>\n",
       "      <td>10.873149</td>\n",
       "      <td>0</td>\n",
       "      <td>16.298099</td>\n",
       "    </tr>\n",
       "    <tr>\n",
       "      <th>37</th>\n",
       "      <td>./data/traj53.csv</td>\n",
       "      <td>5229.331871</td>\n",
       "      <td>-0.001140</td>\n",
       "      <td>1980.712700</td>\n",
       "      <td>12.381634</td>\n",
       "      <td>0</td>\n",
       "      <td>15.838483</td>\n",
       "    </tr>\n",
       "    <tr>\n",
       "      <th>38</th>\n",
       "      <td>./data/traj54.csv</td>\n",
       "      <td>4814.995963</td>\n",
       "      <td>0.000000</td>\n",
       "      <td>256.230755</td>\n",
       "      <td>5.450097</td>\n",
       "      <td>0</td>\n",
       "      <td>13.341512</td>\n",
       "    </tr>\n",
       "    <tr>\n",
       "      <th>39</th>\n",
       "      <td>./data/traj55.csv</td>\n",
       "      <td>5177.663278</td>\n",
       "      <td>-0.006874</td>\n",
       "      <td>2681.047584</td>\n",
       "      <td>20.714598</td>\n",
       "      <td>0</td>\n",
       "      <td>10.730651</td>\n",
       "    </tr>\n",
       "    <tr>\n",
       "      <th>40</th>\n",
       "      <td>./data/traj56.csv</td>\n",
       "      <td>5184.052731</td>\n",
       "      <td>-0.014708</td>\n",
       "      <td>3683.804297</td>\n",
       "      <td>22.870708</td>\n",
       "      <td>0</td>\n",
       "      <td>13.386065</td>\n",
       "    </tr>\n",
       "    <tr>\n",
       "      <th>41</th>\n",
       "      <td>./data/traj57.csv</td>\n",
       "      <td>5109.316341</td>\n",
       "      <td>-0.005051</td>\n",
       "      <td>3004.171012</td>\n",
       "      <td>19.235715</td>\n",
       "      <td>0</td>\n",
       "      <td>15.723431</td>\n",
       "    </tr>\n",
       "    <tr>\n",
       "      <th>42</th>\n",
       "      <td>./data/traj58.csv</td>\n",
       "      <td>4868.714661</td>\n",
       "      <td>0.000000</td>\n",
       "      <td>264.745372</td>\n",
       "      <td>8.576796</td>\n",
       "      <td>0</td>\n",
       "      <td>16.633941</td>\n",
       "    </tr>\n",
       "    <tr>\n",
       "      <th>43</th>\n",
       "      <td>./data/traj59.csv</td>\n",
       "      <td>5198.008964</td>\n",
       "      <td>-0.004466</td>\n",
       "      <td>2050.808705</td>\n",
       "      <td>13.096723</td>\n",
       "      <td>0</td>\n",
       "      <td>17.179832</td>\n",
       "    </tr>\n",
       "    <tr>\n",
       "      <th>44</th>\n",
       "      <td>./data/traj60.csv</td>\n",
       "      <td>5126.415394</td>\n",
       "      <td>0.006253</td>\n",
       "      <td>2112.463601</td>\n",
       "      <td>13.022279</td>\n",
       "      <td>0</td>\n",
       "      <td>14.648780</td>\n",
       "    </tr>\n",
       "  </tbody>\n",
       "</table>\n",
       "</div>"
      ],
      "text/plain": [
       "                fname       alt_max   vert_acc  horiz_speed       dist  \\\n",
       "0   ./data/traj02.csv   8274.327328  -0.304531  3078.942857  20.906922   \n",
       "1   ./data/traj03.csv   8329.930527   0.038225  1884.674858  10.305852   \n",
       "2   ./data/traj04.csv   8291.285689  -0.384100  1882.693659  11.836522   \n",
       "3   ./data/traj05.csv   8280.694341   1.016257  1245.357077   6.527431   \n",
       "4   ./data/traj06.csv   8353.424287  -0.044607  2297.555352  15.443727   \n",
       "5   ./data/traj07.csv   8318.048355  -0.181455  7186.016059  30.272157   \n",
       "6   ./data/traj08.csv   8269.332899  -0.042418  5227.561595  27.218390   \n",
       "7   ./data/traj09.csv   8241.180683   0.241187  2438.956013   4.150869   \n",
       "8   ./data/traj10.csv   8296.437999  -0.198269  3336.196525  19.508315   \n",
       "9   ./data/traj12.csv   3347.743074   2.406948  1056.276914   1.332238   \n",
       "10  ./data/traj13.csv   3277.436031   0.869041   935.061059   1.550007   \n",
       "11  ./data/traj14.csv   3290.486157  -1.929946  1142.164991   1.687517   \n",
       "12  ./data/traj15.csv   3269.088103  -0.417205   824.552150   1.812515   \n",
       "13  ./data/traj16.csv   3314.500261  -0.224652   794.924374   1.962189   \n",
       "14  ./data/traj17.csv   3238.336131  -1.493588   916.158808   1.840450   \n",
       "15  ./data/traj18.csv   3175.896593  -2.923538  1426.948706   0.745613   \n",
       "16  ./data/traj19.csv   3259.534967   0.493730   907.258508   1.626505   \n",
       "17  ./data/traj20.csv   3235.255859  -0.988119   915.939460   1.592567   \n",
       "18  ./data/traj22.csv  46359.963936 -10.000000    36.173055   0.031589   \n",
       "19  ./data/traj23.csv  46359.963936 -10.000000   157.976166   0.137656   \n",
       "20  ./data/traj24.csv  46359.963936 -10.000000   147.797472   0.129048   \n",
       "21  ./data/traj25.csv  46359.963936 -10.000000   177.794466   0.154282   \n",
       "22  ./data/traj26.csv  46359.963936 -10.000000   283.251287   0.247526   \n",
       "23  ./data/traj27.csv  46359.963936 -10.000000    98.382428   0.085969   \n",
       "24  ./data/traj28.csv  46359.963936 -10.000000   224.191741   0.195545   \n",
       "25  ./data/traj29.csv  46359.963936 -10.000000   176.655791   0.154355   \n",
       "26  ./data/traj30.csv  46359.963936 -10.000000   123.470596   0.107887   \n",
       "27  ./data/traj32.csv   8922.800310   0.047016  2591.047765  12.453332   \n",
       "28  ./data/traj33.csv   8332.456791   0.005385  3320.028607  18.732321   \n",
       "29  ./data/traj34.csv   8381.016382  -0.026533  2529.797171  11.129214   \n",
       "30  ./data/traj35.csv   8721.381821   0.032069  3057.800609  17.997414   \n",
       "31  ./data/traj36.csv   9507.677763   0.071087  2596.485527  11.826730   \n",
       "32  ./data/traj37.csv   9622.411484  -0.072419  4527.263616  21.163902   \n",
       "33  ./data/traj38.csv   9216.151353   0.042063  2666.257582   9.196222   \n",
       "34  ./data/traj39.csv   8688.720129  -0.045365  3359.109319  20.568845   \n",
       "35  ./data/traj40.csv   9629.950692  -0.016898  3329.367971  17.989736   \n",
       "36  ./data/traj52.csv   5158.342804   0.003542  1387.542779  10.873149   \n",
       "37  ./data/traj53.csv   5229.331871  -0.001140  1980.712700  12.381634   \n",
       "38  ./data/traj54.csv   4814.995963   0.000000   256.230755   5.450097   \n",
       "39  ./data/traj55.csv   5177.663278  -0.006874  2681.047584  20.714598   \n",
       "40  ./data/traj56.csv   5184.052731  -0.014708  3683.804297  22.870708   \n",
       "41  ./data/traj57.csv   5109.316341  -0.005051  3004.171012  19.235715   \n",
       "42  ./data/traj58.csv   4868.714661   0.000000   264.745372   8.576796   \n",
       "43  ./data/traj59.csv   5198.008964  -0.004466  2050.808705  13.096723   \n",
       "44  ./data/traj60.csv   5126.415394   0.006253  2112.463601  13.022279   \n",
       "\n",
       "    is_maneuver        rcs  \n",
       "0             1  69.952993  \n",
       "1             1  81.733552  \n",
       "2             1  80.851593  \n",
       "3             1  75.857357  \n",
       "4             1  77.177848  \n",
       "5             1  87.900108  \n",
       "6             1  80.573815  \n",
       "7             1  81.842127  \n",
       "8             1  84.096280  \n",
       "9             1   3.341739  \n",
       "10            1   2.738605  \n",
       "11            1   3.374255  \n",
       "12            1   3.012826  \n",
       "13            1   3.237664  \n",
       "14            1   2.485557  \n",
       "15            1   2.856744  \n",
       "16            1   3.496616  \n",
       "17            1   2.762914  \n",
       "18            0   0.011054  \n",
       "19            0   0.010201  \n",
       "20            0   0.011030  \n",
       "21            0   0.009682  \n",
       "22            0   0.010369  \n",
       "23            0   0.009948  \n",
       "24            0   0.011241  \n",
       "25            0   0.010125  \n",
       "26            0   0.009198  \n",
       "27            1   0.099814  \n",
       "28            1   0.109368  \n",
       "29            1   0.101304  \n",
       "30            1   0.097943  \n",
       "31            1   0.106047  \n",
       "32            1   0.096820  \n",
       "33            1   0.100865  \n",
       "34            1   0.111056  \n",
       "35            1   0.113863  \n",
       "36            0  16.298099  \n",
       "37            0  15.838483  \n",
       "38            0  13.341512  \n",
       "39            0  10.730651  \n",
       "40            0  13.386065  \n",
       "41            0  15.723431  \n",
       "42            0  16.633941  \n",
       "43            0  17.179832  \n",
       "44            0  14.648780  "
      ]
     },
     "execution_count": 3,
     "metadata": {},
     "output_type": "execute_result"
    }
   ],
   "source": [
    "df"
   ]
  },
  {
   "cell_type": "code",
   "execution_count": 4,
   "metadata": {
    "ExecuteTime": {
     "end_time": "2020-08-03T09:08:26.524850Z",
     "start_time": "2020-08-03T09:08:26.445616Z"
    }
   },
   "outputs": [
    {
     "data": {
      "text/html": [
       "<div>\n",
       "<style scoped>\n",
       "    .dataframe tbody tr th:only-of-type {\n",
       "        vertical-align: middle;\n",
       "    }\n",
       "\n",
       "    .dataframe tbody tr th {\n",
       "        vertical-align: top;\n",
       "    }\n",
       "\n",
       "    .dataframe thead th {\n",
       "        text-align: right;\n",
       "    }\n",
       "</style>\n",
       "<table border=\"1\" class=\"dataframe\">\n",
       "  <thead>\n",
       "    <tr style=\"text-align: right;\">\n",
       "      <th></th>\n",
       "      <th>alt_max</th>\n",
       "      <th>vert_acc</th>\n",
       "      <th>horiz_speed</th>\n",
       "      <th>dist</th>\n",
       "      <th>is_maneuver</th>\n",
       "      <th>rcs</th>\n",
       "    </tr>\n",
       "  </thead>\n",
       "  <tbody>\n",
       "    <tr>\n",
       "      <th>count</th>\n",
       "      <td>45.000000</td>\n",
       "      <td>45.000000</td>\n",
       "      <td>45.000000</td>\n",
       "      <td>45.000000</td>\n",
       "      <td>45.000000</td>\n",
       "      <td>45.000000</td>\n",
       "    </tr>\n",
       "    <tr>\n",
       "      <th>mean</th>\n",
       "      <td>14404.267188</td>\n",
       "      <td>-2.090068</td>\n",
       "      <td>1873.813710</td>\n",
       "      <td>9.529846</td>\n",
       "      <td>0.600000</td>\n",
       "      <td>19.602296</td>\n",
       "    </tr>\n",
       "    <tr>\n",
       "      <th>std</th>\n",
       "      <td>16297.866678</td>\n",
       "      <td>4.065783</td>\n",
       "      <td>1548.427553</td>\n",
       "      <td>8.747916</td>\n",
       "      <td>0.495434</td>\n",
       "      <td>31.124947</td>\n",
       "    </tr>\n",
       "    <tr>\n",
       "      <th>min</th>\n",
       "      <td>3175.896593</td>\n",
       "      <td>-10.000000</td>\n",
       "      <td>36.173055</td>\n",
       "      <td>0.031589</td>\n",
       "      <td>0.000000</td>\n",
       "      <td>0.009198</td>\n",
       "    </tr>\n",
       "    <tr>\n",
       "      <th>25%</th>\n",
       "      <td>5109.316341</td>\n",
       "      <td>-1.493588</td>\n",
       "      <td>794.924374</td>\n",
       "      <td>1.550007</td>\n",
       "      <td>0.000000</td>\n",
       "      <td>0.099814</td>\n",
       "    </tr>\n",
       "    <tr>\n",
       "      <th>50%</th>\n",
       "      <td>8291.285689</td>\n",
       "      <td>-0.042418</td>\n",
       "      <td>1882.693659</td>\n",
       "      <td>9.196222</td>\n",
       "      <td>1.000000</td>\n",
       "      <td>3.012826</td>\n",
       "    </tr>\n",
       "    <tr>\n",
       "      <th>75%</th>\n",
       "      <td>9507.677763</td>\n",
       "      <td>0.005385</td>\n",
       "      <td>2681.047584</td>\n",
       "      <td>17.989736</td>\n",
       "      <td>1.000000</td>\n",
       "      <td>16.298099</td>\n",
       "    </tr>\n",
       "    <tr>\n",
       "      <th>max</th>\n",
       "      <td>46359.963936</td>\n",
       "      <td>2.406948</td>\n",
       "      <td>7186.016059</td>\n",
       "      <td>30.272157</td>\n",
       "      <td>1.000000</td>\n",
       "      <td>87.900108</td>\n",
       "    </tr>\n",
       "  </tbody>\n",
       "</table>\n",
       "</div>"
      ],
      "text/plain": [
       "            alt_max   vert_acc  horiz_speed       dist  is_maneuver        rcs\n",
       "count     45.000000  45.000000    45.000000  45.000000    45.000000  45.000000\n",
       "mean   14404.267188  -2.090068  1873.813710   9.529846     0.600000  19.602296\n",
       "std    16297.866678   4.065783  1548.427553   8.747916     0.495434  31.124947\n",
       "min     3175.896593 -10.000000    36.173055   0.031589     0.000000   0.009198\n",
       "25%     5109.316341  -1.493588   794.924374   1.550007     0.000000   0.099814\n",
       "50%     8291.285689  -0.042418  1882.693659   9.196222     1.000000   3.012826\n",
       "75%     9507.677763   0.005385  2681.047584  17.989736     1.000000  16.298099\n",
       "max    46359.963936   2.406948  7186.016059  30.272157     1.000000  87.900108"
      ]
     },
     "execution_count": 4,
     "metadata": {},
     "output_type": "execute_result"
    }
   ],
   "source": [
    "df.describe()"
   ]
  },
  {
   "cell_type": "code",
   "execution_count": 5,
   "metadata": {
    "ExecuteTime": {
     "end_time": "2020-08-03T09:08:26.583936Z",
     "start_time": "2020-08-03T09:08:26.526253Z"
    }
   },
   "outputs": [],
   "source": [
    "scaler = MinMaxScaler()"
   ]
  },
  {
   "cell_type": "code",
   "execution_count": 6,
   "metadata": {
    "ExecuteTime": {
     "end_time": "2020-08-03T09:08:26.657587Z",
     "start_time": "2020-08-03T09:08:26.585657Z"
    }
   },
   "outputs": [],
   "source": [
    "df_matrix = scaler.fit_transform(df.drop(['fname'], axis = 1).values)"
   ]
  },
  {
   "cell_type": "code",
   "execution_count": 7,
   "metadata": {
    "ExecuteTime": {
     "end_time": "2020-08-03T09:08:27.040273Z",
     "start_time": "2020-08-03T09:08:26.662267Z"
    }
   },
   "outputs": [],
   "source": [
    "df_matrix = np.asarray(df_matrix)"
   ]
  },
  {
   "cell_type": "code",
   "execution_count": 8,
   "metadata": {
    "ExecuteTime": {
     "end_time": "2020-08-03T09:08:27.652092Z",
     "start_time": "2020-08-03T09:08:27.050626Z"
    }
   },
   "outputs": [],
   "source": [
    "clus = sklc.KMeans(5, n_init = 100, max_iter = 2000, algorithm = 'elkan').fit(df_matrix)"
   ]
  },
  {
   "cell_type": "code",
   "execution_count": 9,
   "metadata": {
    "ExecuteTime": {
     "end_time": "2020-08-03T09:08:27.660607Z",
     "start_time": "2020-08-03T09:08:27.655752Z"
    }
   },
   "outputs": [],
   "source": [
    "kmeans_labels = clus.labels_"
   ]
  },
  {
   "cell_type": "code",
   "execution_count": 10,
   "metadata": {
    "ExecuteTime": {
     "end_time": "2020-08-03T09:08:27.736215Z",
     "start_time": "2020-08-03T09:08:27.662125Z"
    }
   },
   "outputs": [
    {
     "data": {
      "text/plain": [
       "2"
      ]
     },
     "execution_count": 10,
     "metadata": {},
     "output_type": "execute_result"
    }
   ],
   "source": [
    "clus.n_iter_"
   ]
  },
  {
   "cell_type": "code",
   "execution_count": 11,
   "metadata": {
    "ExecuteTime": {
     "end_time": "2020-08-03T09:08:27.851282Z",
     "start_time": "2020-08-03T09:08:27.739548Z"
    }
   },
   "outputs": [],
   "source": [
    "df['clus_id'] = kmeans_labels"
   ]
  },
  {
   "cell_type": "code",
   "execution_count": 12,
   "metadata": {
    "ExecuteTime": {
     "end_time": "2020-08-03T09:08:27.968932Z",
     "start_time": "2020-08-03T09:08:27.853769Z"
    }
   },
   "outputs": [],
   "source": [
    "groups = df.groupby(['clus_id'])"
   ]
  },
  {
   "cell_type": "code",
   "execution_count": 13,
   "metadata": {
    "ExecuteTime": {
     "end_time": "2020-08-03T09:08:28.064659Z",
     "start_time": "2020-08-03T09:08:27.971395Z"
    }
   },
   "outputs": [
    {
     "data": {
      "text/html": [
       "<div>\n",
       "<style scoped>\n",
       "    .dataframe tbody tr th:only-of-type {\n",
       "        vertical-align: middle;\n",
       "    }\n",
       "\n",
       "    .dataframe tbody tr th {\n",
       "        vertical-align: top;\n",
       "    }\n",
       "\n",
       "    .dataframe thead th {\n",
       "        text-align: right;\n",
       "    }\n",
       "</style>\n",
       "<table border=\"1\" class=\"dataframe\">\n",
       "  <thead>\n",
       "    <tr style=\"text-align: right;\">\n",
       "      <th></th>\n",
       "      <th>fname</th>\n",
       "      <th>alt_max</th>\n",
       "      <th>vert_acc</th>\n",
       "      <th>horiz_speed</th>\n",
       "      <th>dist</th>\n",
       "      <th>is_maneuver</th>\n",
       "      <th>rcs</th>\n",
       "    </tr>\n",
       "    <tr>\n",
       "      <th>clus_id</th>\n",
       "      <th></th>\n",
       "      <th></th>\n",
       "      <th></th>\n",
       "      <th></th>\n",
       "      <th></th>\n",
       "      <th></th>\n",
       "      <th></th>\n",
       "    </tr>\n",
       "  </thead>\n",
       "  <tbody>\n",
       "    <tr>\n",
       "      <th>0</th>\n",
       "      <td>9</td>\n",
       "      <td>9</td>\n",
       "      <td>9</td>\n",
       "      <td>9</td>\n",
       "      <td>9</td>\n",
       "      <td>9</td>\n",
       "      <td>9</td>\n",
       "    </tr>\n",
       "    <tr>\n",
       "      <th>1</th>\n",
       "      <td>9</td>\n",
       "      <td>9</td>\n",
       "      <td>9</td>\n",
       "      <td>9</td>\n",
       "      <td>9</td>\n",
       "      <td>9</td>\n",
       "      <td>9</td>\n",
       "    </tr>\n",
       "    <tr>\n",
       "      <th>2</th>\n",
       "      <td>9</td>\n",
       "      <td>9</td>\n",
       "      <td>9</td>\n",
       "      <td>9</td>\n",
       "      <td>9</td>\n",
       "      <td>9</td>\n",
       "      <td>9</td>\n",
       "    </tr>\n",
       "    <tr>\n",
       "      <th>3</th>\n",
       "      <td>9</td>\n",
       "      <td>9</td>\n",
       "      <td>9</td>\n",
       "      <td>9</td>\n",
       "      <td>9</td>\n",
       "      <td>9</td>\n",
       "      <td>9</td>\n",
       "    </tr>\n",
       "    <tr>\n",
       "      <th>4</th>\n",
       "      <td>9</td>\n",
       "      <td>9</td>\n",
       "      <td>9</td>\n",
       "      <td>9</td>\n",
       "      <td>9</td>\n",
       "      <td>9</td>\n",
       "      <td>9</td>\n",
       "    </tr>\n",
       "  </tbody>\n",
       "</table>\n",
       "</div>"
      ],
      "text/plain": [
       "         fname  alt_max  vert_acc  horiz_speed  dist  is_maneuver  rcs\n",
       "clus_id                                                               \n",
       "0            9        9         9            9     9            9    9\n",
       "1            9        9         9            9     9            9    9\n",
       "2            9        9         9            9     9            9    9\n",
       "3            9        9         9            9     9            9    9\n",
       "4            9        9         9            9     9            9    9"
      ]
     },
     "execution_count": 13,
     "metadata": {},
     "output_type": "execute_result"
    }
   ],
   "source": [
    "groups.count()"
   ]
  },
  {
   "cell_type": "code",
   "execution_count": 14,
   "metadata": {
    "ExecuteTime": {
     "end_time": "2020-08-03T09:08:28.139237Z",
     "start_time": "2020-08-03T09:08:28.072297Z"
    }
   },
   "outputs": [
    {
     "data": {
      "text/html": [
       "<div>\n",
       "<style scoped>\n",
       "    .dataframe tbody tr th:only-of-type {\n",
       "        vertical-align: middle;\n",
       "    }\n",
       "\n",
       "    .dataframe tbody tr th {\n",
       "        vertical-align: top;\n",
       "    }\n",
       "\n",
       "    .dataframe thead th {\n",
       "        text-align: right;\n",
       "    }\n",
       "</style>\n",
       "<table border=\"1\" class=\"dataframe\">\n",
       "  <thead>\n",
       "    <tr style=\"text-align: right;\">\n",
       "      <th></th>\n",
       "      <th>alt_max</th>\n",
       "      <th>vert_acc</th>\n",
       "      <th>horiz_speed</th>\n",
       "      <th>dist</th>\n",
       "      <th>is_maneuver</th>\n",
       "      <th>rcs</th>\n",
       "    </tr>\n",
       "    <tr>\n",
       "      <th>clus_id</th>\n",
       "      <th></th>\n",
       "      <th></th>\n",
       "      <th></th>\n",
       "      <th></th>\n",
       "      <th></th>\n",
       "      <th></th>\n",
       "    </tr>\n",
       "  </thead>\n",
       "  <tbody>\n",
       "    <tr>\n",
       "      <th>0</th>\n",
       "      <td>8294.962457</td>\n",
       "      <td>0.015588</td>\n",
       "      <td>3175.328222</td>\n",
       "      <td>16.241132</td>\n",
       "      <td>1</td>\n",
       "      <td>79.998408</td>\n",
       "    </tr>\n",
       "    <tr>\n",
       "      <th>1</th>\n",
       "      <td>46359.963936</td>\n",
       "      <td>-10.000000</td>\n",
       "      <td>158.410334</td>\n",
       "      <td>0.138206</td>\n",
       "      <td>0</td>\n",
       "      <td>0.010316</td>\n",
       "    </tr>\n",
       "    <tr>\n",
       "      <th>2</th>\n",
       "      <td>3267.586353</td>\n",
       "      <td>-0.467481</td>\n",
       "      <td>991.031663</td>\n",
       "      <td>1.572178</td>\n",
       "      <td>1</td>\n",
       "      <td>3.034102</td>\n",
       "    </tr>\n",
       "    <tr>\n",
       "      <th>3</th>\n",
       "      <td>5096.315779</td>\n",
       "      <td>-0.002494</td>\n",
       "      <td>1935.725201</td>\n",
       "      <td>14.024633</td>\n",
       "      <td>0</td>\n",
       "      <td>14.864533</td>\n",
       "    </tr>\n",
       "    <tr>\n",
       "      <th>4</th>\n",
       "      <td>9002.507414</td>\n",
       "      <td>0.004045</td>\n",
       "      <td>3108.573130</td>\n",
       "      <td>15.673079</td>\n",
       "      <td>1</td>\n",
       "      <td>0.104120</td>\n",
       "    </tr>\n",
       "  </tbody>\n",
       "</table>\n",
       "</div>"
      ],
      "text/plain": [
       "              alt_max   vert_acc  horiz_speed       dist  is_maneuver  \\\n",
       "clus_id                                                                 \n",
       "0         8294.962457   0.015588  3175.328222  16.241132            1   \n",
       "1        46359.963936 -10.000000   158.410334   0.138206            0   \n",
       "2         3267.586353  -0.467481   991.031663   1.572178            1   \n",
       "3         5096.315779  -0.002494  1935.725201  14.024633            0   \n",
       "4         9002.507414   0.004045  3108.573130  15.673079            1   \n",
       "\n",
       "               rcs  \n",
       "clus_id             \n",
       "0        79.998408  \n",
       "1         0.010316  \n",
       "2         3.034102  \n",
       "3        14.864533  \n",
       "4         0.104120  "
      ]
     },
     "execution_count": 14,
     "metadata": {},
     "output_type": "execute_result"
    }
   ],
   "source": [
    "groups.mean()"
   ]
  },
  {
   "cell_type": "code",
   "execution_count": 62,
   "metadata": {
    "ExecuteTime": {
     "end_time": "2020-08-03T09:45:49.553212Z",
     "start_time": "2020-08-03T09:45:49.542558Z"
    }
   },
   "outputs": [
    {
     "data": {
      "text/html": [
       "<div>\n",
       "<style scoped>\n",
       "    .dataframe tbody tr th:only-of-type {\n",
       "        vertical-align: middle;\n",
       "    }\n",
       "\n",
       "    .dataframe tbody tr th {\n",
       "        vertical-align: top;\n",
       "    }\n",
       "\n",
       "    .dataframe thead th {\n",
       "        text-align: right;\n",
       "    }\n",
       "</style>\n",
       "<table border=\"1\" class=\"dataframe\">\n",
       "  <thead>\n",
       "    <tr style=\"text-align: right;\">\n",
       "      <th></th>\n",
       "      <th>fname</th>\n",
       "      <th>alt_max</th>\n",
       "      <th>vert_acc</th>\n",
       "      <th>horiz_speed</th>\n",
       "      <th>dist</th>\n",
       "      <th>is_maneuver</th>\n",
       "      <th>rcs</th>\n",
       "      <th>clus_id</th>\n",
       "    </tr>\n",
       "  </thead>\n",
       "  <tbody>\n",
       "    <tr>\n",
       "      <th>36</th>\n",
       "      <td>./data/traj52.csv</td>\n",
       "      <td>5158.342804</td>\n",
       "      <td>0.003542</td>\n",
       "      <td>1387.542779</td>\n",
       "      <td>10.873149</td>\n",
       "      <td>0</td>\n",
       "      <td>16.298099</td>\n",
       "      <td>3</td>\n",
       "    </tr>\n",
       "    <tr>\n",
       "      <th>37</th>\n",
       "      <td>./data/traj53.csv</td>\n",
       "      <td>5229.331871</td>\n",
       "      <td>-0.001140</td>\n",
       "      <td>1980.712700</td>\n",
       "      <td>12.381634</td>\n",
       "      <td>0</td>\n",
       "      <td>15.838483</td>\n",
       "      <td>3</td>\n",
       "    </tr>\n",
       "    <tr>\n",
       "      <th>38</th>\n",
       "      <td>./data/traj54.csv</td>\n",
       "      <td>4814.995963</td>\n",
       "      <td>0.000000</td>\n",
       "      <td>256.230755</td>\n",
       "      <td>5.450097</td>\n",
       "      <td>0</td>\n",
       "      <td>13.341512</td>\n",
       "      <td>3</td>\n",
       "    </tr>\n",
       "    <tr>\n",
       "      <th>39</th>\n",
       "      <td>./data/traj55.csv</td>\n",
       "      <td>5177.663278</td>\n",
       "      <td>-0.006874</td>\n",
       "      <td>2681.047584</td>\n",
       "      <td>20.714598</td>\n",
       "      <td>0</td>\n",
       "      <td>10.730651</td>\n",
       "      <td>3</td>\n",
       "    </tr>\n",
       "    <tr>\n",
       "      <th>40</th>\n",
       "      <td>./data/traj56.csv</td>\n",
       "      <td>5184.052731</td>\n",
       "      <td>-0.014708</td>\n",
       "      <td>3683.804297</td>\n",
       "      <td>22.870708</td>\n",
       "      <td>0</td>\n",
       "      <td>13.386065</td>\n",
       "      <td>3</td>\n",
       "    </tr>\n",
       "    <tr>\n",
       "      <th>41</th>\n",
       "      <td>./data/traj57.csv</td>\n",
       "      <td>5109.316341</td>\n",
       "      <td>-0.005051</td>\n",
       "      <td>3004.171012</td>\n",
       "      <td>19.235715</td>\n",
       "      <td>0</td>\n",
       "      <td>15.723431</td>\n",
       "      <td>3</td>\n",
       "    </tr>\n",
       "    <tr>\n",
       "      <th>42</th>\n",
       "      <td>./data/traj58.csv</td>\n",
       "      <td>4868.714661</td>\n",
       "      <td>0.000000</td>\n",
       "      <td>264.745372</td>\n",
       "      <td>8.576796</td>\n",
       "      <td>0</td>\n",
       "      <td>16.633941</td>\n",
       "      <td>3</td>\n",
       "    </tr>\n",
       "    <tr>\n",
       "      <th>43</th>\n",
       "      <td>./data/traj59.csv</td>\n",
       "      <td>5198.008964</td>\n",
       "      <td>-0.004466</td>\n",
       "      <td>2050.808705</td>\n",
       "      <td>13.096723</td>\n",
       "      <td>0</td>\n",
       "      <td>17.179832</td>\n",
       "      <td>3</td>\n",
       "    </tr>\n",
       "    <tr>\n",
       "      <th>44</th>\n",
       "      <td>./data/traj60.csv</td>\n",
       "      <td>5126.415394</td>\n",
       "      <td>0.006253</td>\n",
       "      <td>2112.463601</td>\n",
       "      <td>13.022279</td>\n",
       "      <td>0</td>\n",
       "      <td>14.648780</td>\n",
       "      <td>3</td>\n",
       "    </tr>\n",
       "  </tbody>\n",
       "</table>\n",
       "</div>"
      ],
      "text/plain": [
       "                fname      alt_max  vert_acc  horiz_speed       dist  \\\n",
       "36  ./data/traj52.csv  5158.342804  0.003542  1387.542779  10.873149   \n",
       "37  ./data/traj53.csv  5229.331871 -0.001140  1980.712700  12.381634   \n",
       "38  ./data/traj54.csv  4814.995963  0.000000   256.230755   5.450097   \n",
       "39  ./data/traj55.csv  5177.663278 -0.006874  2681.047584  20.714598   \n",
       "40  ./data/traj56.csv  5184.052731 -0.014708  3683.804297  22.870708   \n",
       "41  ./data/traj57.csv  5109.316341 -0.005051  3004.171012  19.235715   \n",
       "42  ./data/traj58.csv  4868.714661  0.000000   264.745372   8.576796   \n",
       "43  ./data/traj59.csv  5198.008964 -0.004466  2050.808705  13.096723   \n",
       "44  ./data/traj60.csv  5126.415394  0.006253  2112.463601  13.022279   \n",
       "\n",
       "    is_maneuver        rcs  clus_id  \n",
       "36            0  16.298099        3  \n",
       "37            0  15.838483        3  \n",
       "38            0  13.341512        3  \n",
       "39            0  10.730651        3  \n",
       "40            0  13.386065        3  \n",
       "41            0  15.723431        3  \n",
       "42            0  16.633941        3  \n",
       "43            0  17.179832        3  \n",
       "44            0  14.648780        3  "
      ]
     },
     "execution_count": 62,
     "metadata": {},
     "output_type": "execute_result"
    }
   ],
   "source": [
    "groups.get_group(3)"
   ]
  },
  {
   "cell_type": "code",
   "execution_count": 16,
   "metadata": {
    "ExecuteTime": {
     "end_time": "2020-08-03T09:08:28.957828Z",
     "start_time": "2020-08-03T09:08:28.245805Z"
    }
   },
   "outputs": [],
   "source": [
    "X_embedded = TSNE(n_components = 2).fit_transform(df_matrix)"
   ]
  },
  {
   "cell_type": "code",
   "execution_count": 23,
   "metadata": {
    "ExecuteTime": {
     "end_time": "2020-08-03T09:09:47.549731Z",
     "start_time": "2020-08-03T09:09:47.545566Z"
    }
   },
   "outputs": [],
   "source": [
    "num_clus = 5"
   ]
  },
  {
   "cell_type": "code",
   "execution_count": 24,
   "metadata": {
    "ExecuteTime": {
     "end_time": "2020-08-03T09:09:48.174136Z",
     "start_time": "2020-08-03T09:09:48.163480Z"
    }
   },
   "outputs": [],
   "source": [
    "l = []\n",
    "for i in range(num_clus):\n",
    "    new_list = []\n",
    "    l.append(new_list)\n",
    "for i, x in enumerate(X_embedded):\n",
    "    l[kmeans_labels[i]].append(x)\n",
    "for i in range(num_clus):\n",
    "    l[i] = np.asarray(l[i])"
   ]
  },
  {
   "cell_type": "code",
   "execution_count": 25,
   "metadata": {
    "ExecuteTime": {
     "end_time": "2020-08-03T09:09:49.774702Z",
     "start_time": "2020-08-03T09:09:49.772421Z"
    }
   },
   "outputs": [],
   "source": [
    "l = np.asarray(l)"
   ]
  },
  {
   "cell_type": "code",
   "execution_count": 26,
   "metadata": {
    "ExecuteTime": {
     "end_time": "2020-08-03T09:09:50.560259Z",
     "start_time": "2020-08-03T09:09:50.553314Z"
    }
   },
   "outputs": [
    {
     "data": {
      "text/plain": [
       "array([[[ 121.22757   ,   25.027203  ],\n",
       "        [ 162.8978    ,    4.009802  ],\n",
       "        [  90.19334   ,   92.26044   ],\n",
       "        [ 147.75615   ,  -42.31964   ],\n",
       "        [ 109.31257   ,   58.185192  ],\n",
       "        [ 181.68246   ,   78.8917    ],\n",
       "        [ 139.85149   ,   91.317795  ],\n",
       "        [ 123.101494  ,  -12.975659  ],\n",
       "        [ 153.53516   ,   46.176304  ]],\n",
       "\n",
       "       [[-180.50612   ,   17.258148  ],\n",
       "        [-186.42882   ,  -22.805157  ],\n",
       "        [-221.3657    ,   -5.4022613 ],\n",
       "        [-147.08122   ,  -87.346985  ],\n",
       "        [-216.67662   ,  -50.38807   ],\n",
       "        [-148.41756   ,  -12.142688  ],\n",
       "        [-192.4093    ,  -84.57072   ],\n",
       "        [-167.92793   ,  -52.813644  ],\n",
       "        [-128.12157   ,  -47.505653  ]],\n",
       "\n",
       "       [[  76.70577   ,  -90.424     ],\n",
       "        [ -38.370483  ,  -68.70909   ],\n",
       "        [  12.469612  ,   64.52233   ],\n",
       "        [  -7.297674  ,  -39.576504  ],\n",
       "        [   4.3763137 ,  -72.53993   ],\n",
       "        [  24.58607   , -110.64938   ],\n",
       "        [ -20.11196   , -105.851555  ],\n",
       "        [  42.176826  ,  -74.491356  ],\n",
       "        [ -46.873856  ,  -30.148762  ]],\n",
       "\n",
       "       [[ -43.922173  ,   65.46631   ],\n",
       "        [-121.2264    ,   60.400356  ],\n",
       "        [ -74.769554  ,  130.75407   ],\n",
       "        [ -71.69017   ,   92.588486  ],\n",
       "        [-111.29703   ,  101.33745   ],\n",
       "        [ -33.503506  ,  105.58541   ],\n",
       "        [ -98.1268    ,   21.960543  ],\n",
       "        [ -60.781387  ,   32.308876  ],\n",
       "        [ -84.83587   ,   60.482407  ]],\n",
       "\n",
       "       [[ -17.832941  ,   -0.66590464],\n",
       "        [  76.48117   ,   17.8527    ],\n",
       "        [   4.616228  ,   26.596191  ],\n",
       "        [  40.16482   ,   19.468325  ],\n",
       "        [  18.9264    ,   -9.931238  ],\n",
       "        [  84.05453   ,  -39.47228   ],\n",
       "        [  35.57609   ,  -39.91047   ],\n",
       "        [  54.244816  ,   53.978714  ],\n",
       "        [  59.637947  ,  -12.785927  ]]], dtype=float32)"
      ]
     },
     "execution_count": 26,
     "metadata": {},
     "output_type": "execute_result"
    }
   ],
   "source": [
    "l"
   ]
  },
  {
   "cell_type": "code",
   "execution_count": 28,
   "metadata": {
    "ExecuteTime": {
     "end_time": "2020-08-03T09:10:17.720554Z",
     "start_time": "2020-08-03T09:10:17.557550Z"
    }
   },
   "outputs": [
    {
     "data": {
      "image/png": "[encoded data removed]",
      "text/plain": [
       "<Figure size 432x288 with 1 Axes>"
      ]
     },
     "metadata": {
      "needs_background": "light"
     },
     "output_type": "display_data"
    }
   ],
   "source": [
    "import matplotlib.pyplot as plt\n",
    "for i,x in enumerate(l):\n",
    "    plt.plot(x[:,0], x[:,1], '*', label = 'cluster '+ str(i))\n",
    "plt.legend()\n",
    "plt.show()"
   ]
  },
  {
   "cell_type": "code",
   "execution_count": 36,
   "metadata": {
    "ExecuteTime": {
     "end_time": "2020-08-03T09:15:47.965471Z",
     "start_time": "2020-08-03T09:15:47.960370Z"
    }
   },
   "outputs": [],
   "source": [
    "test = pd.read_csv('test_features.csv')"
   ]
  },
  {
   "cell_type": "code",
   "execution_count": 37,
   "metadata": {
    "ExecuteTime": {
     "end_time": "2020-08-03T09:15:52.106401Z",
     "start_time": "2020-08-03T09:15:52.094543Z"
    }
   },
   "outputs": [
    {
     "data": {
      "text/html": [
       "<div>\n",
       "<style scoped>\n",
       "    .dataframe tbody tr th:only-of-type {\n",
       "        vertical-align: middle;\n",
       "    }\n",
       "\n",
       "    .dataframe tbody tr th {\n",
       "        vertical-align: top;\n",
       "    }\n",
       "\n",
       "    .dataframe thead th {\n",
       "        text-align: right;\n",
       "    }\n",
       "</style>\n",
       "<table border=\"1\" class=\"dataframe\">\n",
       "  <thead>\n",
       "    <tr style=\"text-align: right;\">\n",
       "      <th></th>\n",
       "      <th>fname</th>\n",
       "      <th>alt_max</th>\n",
       "      <th>vert_acc</th>\n",
       "      <th>horiz_speed</th>\n",
       "      <th>dist</th>\n",
       "      <th>is_maneuver</th>\n",
       "      <th>rcs</th>\n",
       "    </tr>\n",
       "  </thead>\n",
       "  <tbody>\n",
       "    <tr>\n",
       "      <th>0</th>\n",
       "      <td>./test_files/traj1.csv</td>\n",
       "      <td>8281.973221</td>\n",
       "      <td>-0.324512</td>\n",
       "      <td>1398.000923</td>\n",
       "      <td>7.190764</td>\n",
       "      <td>1</td>\n",
       "      <td>91.837843</td>\n",
       "    </tr>\n",
       "    <tr>\n",
       "      <th>1</th>\n",
       "      <td>./test_files/traj11.csv</td>\n",
       "      <td>3286.929710</td>\n",
       "      <td>0.306735</td>\n",
       "      <td>876.349493</td>\n",
       "      <td>4.160539</td>\n",
       "      <td>1</td>\n",
       "      <td>2.821894</td>\n",
       "    </tr>\n",
       "    <tr>\n",
       "      <th>2</th>\n",
       "      <td>./test_files/traj21.csv</td>\n",
       "      <td>46359.963936</td>\n",
       "      <td>-10.000000</td>\n",
       "      <td>151.054206</td>\n",
       "      <td>0.131327</td>\n",
       "      <td>0</td>\n",
       "      <td>0.010366</td>\n",
       "    </tr>\n",
       "    <tr>\n",
       "      <th>3</th>\n",
       "      <td>./test_files/traj31.csv</td>\n",
       "      <td>8067.899640</td>\n",
       "      <td>0.000000</td>\n",
       "      <td>2807.989766</td>\n",
       "      <td>15.844100</td>\n",
       "      <td>0</td>\n",
       "      <td>0.104709</td>\n",
       "    </tr>\n",
       "    <tr>\n",
       "      <th>4</th>\n",
       "      <td>./test_files/traj51.csv</td>\n",
       "      <td>5224.666985</td>\n",
       "      <td>-0.000926</td>\n",
       "      <td>2294.973087</td>\n",
       "      <td>13.605878</td>\n",
       "      <td>0</td>\n",
       "      <td>13.527322</td>\n",
       "    </tr>\n",
       "  </tbody>\n",
       "</table>\n",
       "</div>"
      ],
      "text/plain": [
       "                     fname       alt_max   vert_acc  horiz_speed       dist  \\\n",
       "0   ./test_files/traj1.csv   8281.973221  -0.324512  1398.000923   7.190764   \n",
       "1  ./test_files/traj11.csv   3286.929710   0.306735   876.349493   4.160539   \n",
       "2  ./test_files/traj21.csv  46359.963936 -10.000000   151.054206   0.131327   \n",
       "3  ./test_files/traj31.csv   8067.899640   0.000000  2807.989766  15.844100   \n",
       "4  ./test_files/traj51.csv   5224.666985  -0.000926  2294.973087  13.605878   \n",
       "\n",
       "   is_maneuver        rcs  \n",
       "0            1  91.837843  \n",
       "1            1   2.821894  \n",
       "2            0   0.010366  \n",
       "3            0   0.104709  \n",
       "4            0  13.527322  "
      ]
     },
     "execution_count": 37,
     "metadata": {},
     "output_type": "execute_result"
    }
   ],
   "source": [
    "test"
   ]
  },
  {
   "cell_type": "code",
   "execution_count": 42,
   "metadata": {
    "ExecuteTime": {
     "end_time": "2020-08-03T09:17:55.346205Z",
     "start_time": "2020-08-03T09:17:55.338477Z"
    }
   },
   "outputs": [
    {
     "data": {
      "text/plain": [
       "array([0, 2, 1, 3, 3], dtype=int32)"
      ]
     },
     "execution_count": 42,
     "metadata": {},
     "output_type": "execute_result"
    }
   ],
   "source": [
    "clus.predict(scaler.transform(test.drop(['fname'],axis =1).values))"
   ]
  },
  {
   "cell_type": "code",
   "execution_count": 48,
   "metadata": {
    "ExecuteTime": {
     "end_time": "2020-08-03T09:27:19.923876Z",
     "start_time": "2020-08-03T09:27:19.469743Z"
    }
   },
   "outputs": [],
   "source": [
    "TS2d = TSNE(n_components = 2).fit_transform(scaler.transform(test.drop(['fname'],axis =1).values))\n",
    "TS3d = TSNE(n_components = 3).fit_transform(scaler.transform(test.drop(['fname'],axis =1).values))"
   ]
  },
  {
   "cell_type": "code",
   "execution_count": null,
   "metadata": {
    "ExecuteTime": {
     "end_time": "2020-08-03T09:08:29.439729Z",
     "start_time": "2020-08-03T09:08:25.802Z"
    }
   },
   "outputs": [],
   "source": [
    "main_df = pd.read_csv('features.csv')"
   ]
  },
  {
   "cell_type": "code",
   "execution_count": null,
   "metadata": {
    "ExecuteTime": {
     "end_time": "2020-08-03T09:08:29.440540Z",
     "start_time": "2020-08-03T09:08:25.803Z"
    }
   },
   "outputs": [],
   "source": [
    "main_df"
   ]
  },
  {
   "cell_type": "code",
   "execution_count": null,
   "metadata": {
    "ExecuteTime": {
     "end_time": "2020-08-03T09:08:29.441357Z",
     "start_time": "2020-08-03T09:08:25.804Z"
    }
   },
   "outputs": [],
   "source": [
    "df['dist'] = np.sqrt(main_df['dist'])"
   ]
  },
  {
   "cell_type": "code",
   "execution_count": null,
   "metadata": {
    "ExecuteTime": {
     "end_time": "2020-08-03T09:08:29.442305Z",
     "start_time": "2020-08-03T09:08:25.806Z"
    }
   },
   "outputs": [],
   "source": [
    "main_df['horiz_speed'] *= 111000\n",
    "main_df['dist'] *= 111000"
   ]
  },
  {
   "cell_type": "code",
   "execution_count": null,
   "metadata": {
    "ExecuteTime": {
     "end_time": "2020-08-03T09:08:29.443146Z",
     "start_time": "2020-08-03T09:08:25.807Z"
    }
   },
   "outputs": [],
   "source": [
    "main_df['clus_id'] = kmeans_labels"
   ]
  },
  {
   "cell_type": "code",
   "execution_count": 54,
   "metadata": {
    "ExecuteTime": {
     "end_time": "2020-08-03T09:29:22.634335Z",
     "start_time": "2020-08-03T09:29:22.622450Z"
    }
   },
   "outputs": [],
   "source": [
    "plot_df = pd.DataFrame()"
   ]
  },
  {
   "cell_type": "code",
   "execution_count": 55,
   "metadata": {
    "ExecuteTime": {
     "end_time": "2020-08-03T09:29:24.375034Z",
     "start_time": "2020-08-03T09:29:24.362998Z"
    }
   },
   "outputs": [],
   "source": [
    "plot_df['filename'] = test['fname']"
   ]
  },
  {
   "cell_type": "code",
   "execution_count": 56,
   "metadata": {
    "ExecuteTime": {
     "end_time": "2020-08-03T09:29:35.402151Z",
     "start_time": "2020-08-03T09:29:35.394696Z"
    }
   },
   "outputs": [],
   "source": [
    "plot_df['x'] = TS3d[:,0]\n",
    "plot_df['y'] = TS3d[:,1]\n",
    "plot_df['z'] = TS3d[:,2]"
   ]
  },
  {
   "cell_type": "code",
   "execution_count": 57,
   "metadata": {
    "ExecuteTime": {
     "end_time": "2020-08-03T09:29:39.162318Z",
     "start_time": "2020-08-03T09:29:39.156945Z"
    }
   },
   "outputs": [],
   "source": [
    "plot_df['clus_id'] = clus.predict(scaler.transform(test.drop(['fname'],axis =1).values))"
   ]
  },
  {
   "cell_type": "code",
   "execution_count": 58,
   "metadata": {
    "ExecuteTime": {
     "end_time": "2020-08-03T09:29:47.625048Z",
     "start_time": "2020-08-03T09:29:47.620944Z"
    }
   },
   "outputs": [],
   "source": [
    "plot_df.to_csv('tsne_3d_plot_final.csv', index = False)"
   ]
  }
 ],
 "metadata": {
  "kernelspec": {
   "display_name": "Python 3",
   "language": "python",
   "name": "python3"
  },
  "language_info": {
   "codemirror_mode": {
    "name": "ipython",
    "version": 3
   },
   "file_extension": ".py",
   "mimetype": "text/x-python",
   "name": "python",
   "nbconvert_exporter": "python",
   "pygments_lexer": "ipython3",
   "version": "3.7.4"
  }
 },
 "nbformat": 4,
 "nbformat_minor": 2
}
