{
 "cells": [
  {
   "cell_type": "code",
   "execution_count": 1,
   "metadata": {
    "ExecuteTime": {
     "end_time": "2020-08-01T11:59:39.230075Z",
     "start_time": "2020-08-01T11:59:38.699723Z"
    }
   },
   "outputs": [],
   "source": [
    "import pandas as pd\n",
    "import numpy as np\n",
    "import sklearn.cluster as sklc\n",
    "from sklearn.preprocessing import MinMaxScaler\n",
    "from sklearn.manifold import TSNE"
   ]
  },
  {
   "cell_type": "code",
   "execution_count": 2,
   "metadata": {
    "ExecuteTime": {
     "end_time": "2020-08-01T11:59:40.081748Z",
     "start_time": "2020-08-01T11:59:39.747461Z"
    }
   },
   "outputs": [],
   "source": [
    "df = pd.read_csv('features_only_updated2.csv')"
   ]
  },
  {
   "cell_type": "code",
   "execution_count": 3,
   "metadata": {
    "ExecuteTime": {
     "end_time": "2020-08-01T11:59:41.196863Z",
     "start_time": "2020-08-01T11:59:40.565948Z"
    }
   },
   "outputs": [
    {
     "data": {
      "text/html": [
       "<div>\n",
       "<style scoped>\n",
       "    .dataframe tbody tr th:only-of-type {\n",
       "        vertical-align: middle;\n",
       "    }\n",
       "\n",
       "    .dataframe tbody tr th {\n",
       "        vertical-align: top;\n",
       "    }\n",
       "\n",
       "    .dataframe thead th {\n",
       "        text-align: right;\n",
       "    }\n",
       "</style>\n",
       "<table border=\"1\" class=\"dataframe\">\n",
       "  <thead>\n",
       "    <tr style=\"text-align: right;\">\n",
       "      <th></th>\n",
       "      <th>alt_max</th>\n",
       "      <th>dist</th>\n",
       "      <th>down_acc</th>\n",
       "      <th>horiz_speed</th>\n",
       "      <th>up_acc</th>\n",
       "      <th>vert_speed</th>\n",
       "    </tr>\n",
       "  </thead>\n",
       "  <tbody>\n",
       "    <tr>\n",
       "      <th>0</th>\n",
       "      <td>282.000000</td>\n",
       "      <td>1.869275e+04</td>\n",
       "      <td>0.0</td>\n",
       "      <td>37.352853</td>\n",
       "      <td>1.477734</td>\n",
       "      <td>NaN</td>\n",
       "    </tr>\n",
       "    <tr>\n",
       "      <th>1</th>\n",
       "      <td>11582.000000</td>\n",
       "      <td>1.495356e+06</td>\n",
       "      <td>0.0</td>\n",
       "      <td>133.425307</td>\n",
       "      <td>828.523214</td>\n",
       "      <td>NaN</td>\n",
       "    </tr>\n",
       "    <tr>\n",
       "      <th>2</th>\n",
       "      <td>3635.000000</td>\n",
       "      <td>1.666011e+05</td>\n",
       "      <td>0.0</td>\n",
       "      <td>104.179121</td>\n",
       "      <td>2.462938</td>\n",
       "      <td>NaN</td>\n",
       "    </tr>\n",
       "    <tr>\n",
       "      <th>3</th>\n",
       "      <td>671.000000</td>\n",
       "      <td>1.078771e+05</td>\n",
       "      <td>0.0</td>\n",
       "      <td>109.198821</td>\n",
       "      <td>2.660062</td>\n",
       "      <td>NaN</td>\n",
       "    </tr>\n",
       "    <tr>\n",
       "      <th>4</th>\n",
       "      <td>503.000000</td>\n",
       "      <td>1.908652e+04</td>\n",
       "      <td>0.0</td>\n",
       "      <td>56.432251</td>\n",
       "      <td>1.322992</td>\n",
       "      <td>NaN</td>\n",
       "    </tr>\n",
       "    <tr>\n",
       "      <th>...</th>\n",
       "      <td>...</td>\n",
       "      <td>...</td>\n",
       "      <td>...</td>\n",
       "      <td>...</td>\n",
       "      <td>...</td>\n",
       "      <td>...</td>\n",
       "    </tr>\n",
       "    <tr>\n",
       "      <th>11060</th>\n",
       "      <td>2537.746937</td>\n",
       "      <td>3.073737e+03</td>\n",
       "      <td>NaN</td>\n",
       "      <td>-6.515848</td>\n",
       "      <td>NaN</td>\n",
       "      <td>4.894569</td>\n",
       "    </tr>\n",
       "    <tr>\n",
       "      <th>11061</th>\n",
       "      <td>3106.582017</td>\n",
       "      <td>2.890184e+03</td>\n",
       "      <td>NaN</td>\n",
       "      <td>-7.580915</td>\n",
       "      <td>NaN</td>\n",
       "      <td>5.560842</td>\n",
       "    </tr>\n",
       "    <tr>\n",
       "      <th>11062</th>\n",
       "      <td>3575.930522</td>\n",
       "      <td>4.052327e+03</td>\n",
       "      <td>NaN</td>\n",
       "      <td>-3.811428</td>\n",
       "      <td>NaN</td>\n",
       "      <td>2.896177</td>\n",
       "    </tr>\n",
       "    <tr>\n",
       "      <th>11063</th>\n",
       "      <td>2370.691320</td>\n",
       "      <td>2.982080e+03</td>\n",
       "      <td>NaN</td>\n",
       "      <td>-9.278826</td>\n",
       "      <td>NaN</td>\n",
       "      <td>8.555682</td>\n",
       "    </tr>\n",
       "    <tr>\n",
       "      <th>11064</th>\n",
       "      <td>2344.625388</td>\n",
       "      <td>3.012022e+03</td>\n",
       "      <td>NaN</td>\n",
       "      <td>-8.378764</td>\n",
       "      <td>NaN</td>\n",
       "      <td>3.497735</td>\n",
       "    </tr>\n",
       "  </tbody>\n",
       "</table>\n",
       "<p>11065 rows × 6 columns</p>\n",
       "</div>"
      ],
      "text/plain": [
       "            alt_max          dist  down_acc  horiz_speed      up_acc  \\\n",
       "0        282.000000  1.869275e+04       0.0    37.352853    1.477734   \n",
       "1      11582.000000  1.495356e+06       0.0   133.425307  828.523214   \n",
       "2       3635.000000  1.666011e+05       0.0   104.179121    2.462938   \n",
       "3        671.000000  1.078771e+05       0.0   109.198821    2.660062   \n",
       "4        503.000000  1.908652e+04       0.0    56.432251    1.322992   \n",
       "...             ...           ...       ...          ...         ...   \n",
       "11060   2537.746937  3.073737e+03       NaN    -6.515848         NaN   \n",
       "11061   3106.582017  2.890184e+03       NaN    -7.580915         NaN   \n",
       "11062   3575.930522  4.052327e+03       NaN    -3.811428         NaN   \n",
       "11063   2370.691320  2.982080e+03       NaN    -9.278826         NaN   \n",
       "11064   2344.625388  3.012022e+03       NaN    -8.378764         NaN   \n",
       "\n",
       "       vert_speed  \n",
       "0             NaN  \n",
       "1             NaN  \n",
       "2             NaN  \n",
       "3             NaN  \n",
       "4             NaN  \n",
       "...           ...  \n",
       "11060    4.894569  \n",
       "11061    5.560842  \n",
       "11062    2.896177  \n",
       "11063    8.555682  \n",
       "11064    3.497735  \n",
       "\n",
       "[11065 rows x 6 columns]"
      ]
     },
     "execution_count": 3,
     "metadata": {},
     "output_type": "execute_result"
    }
   ],
   "source": [
    "df"
   ]
  },
  {
   "cell_type": "code",
   "execution_count": 4,
   "metadata": {
    "ExecuteTime": {
     "end_time": "2020-08-01T11:59:42.012715Z",
     "start_time": "2020-08-01T11:59:41.534239Z"
    }
   },
   "outputs": [
    {
     "data": {
      "text/html": [
       "<div>\n",
       "<style scoped>\n",
       "    .dataframe tbody tr th:only-of-type {\n",
       "        vertical-align: middle;\n",
       "    }\n",
       "\n",
       "    .dataframe tbody tr th {\n",
       "        vertical-align: top;\n",
       "    }\n",
       "\n",
       "    .dataframe thead th {\n",
       "        text-align: right;\n",
       "    }\n",
       "</style>\n",
       "<table border=\"1\" class=\"dataframe\">\n",
       "  <thead>\n",
       "    <tr style=\"text-align: right;\">\n",
       "      <th></th>\n",
       "      <th>alt_max</th>\n",
       "      <th>dist</th>\n",
       "      <th>down_acc</th>\n",
       "      <th>horiz_speed</th>\n",
       "      <th>up_acc</th>\n",
       "      <th>vert_speed</th>\n",
       "    </tr>\n",
       "  </thead>\n",
       "  <tbody>\n",
       "    <tr>\n",
       "      <th>count</th>\n",
       "      <td>11065.000000</td>\n",
       "      <td>1.106500e+04</td>\n",
       "      <td>6865.0</td>\n",
       "      <td>11065.000000</td>\n",
       "      <td>6850.000000</td>\n",
       "      <td>4200.000000</td>\n",
       "    </tr>\n",
       "    <tr>\n",
       "      <th>mean</th>\n",
       "      <td>5012.236790</td>\n",
       "      <td>1.017375e+06</td>\n",
       "      <td>0.0</td>\n",
       "      <td>97.041727</td>\n",
       "      <td>6.126207</td>\n",
       "      <td>0.470705</td>\n",
       "    </tr>\n",
       "    <tr>\n",
       "      <th>std</th>\n",
       "      <td>4540.190330</td>\n",
       "      <td>2.986065e+06</td>\n",
       "      <td>0.0</td>\n",
       "      <td>107.692822</td>\n",
       "      <td>11.411432</td>\n",
       "      <td>1.105996</td>\n",
       "    </tr>\n",
       "    <tr>\n",
       "      <th>min</th>\n",
       "      <td>-201.408012</td>\n",
       "      <td>-2.313441e-01</td>\n",
       "      <td>0.0</td>\n",
       "      <td>-13.592893</td>\n",
       "      <td>1.016949</td>\n",
       "      <td>-1.046500</td>\n",
       "    </tr>\n",
       "    <tr>\n",
       "      <th>25%</th>\n",
       "      <td>569.556477</td>\n",
       "      <td>2.754108e+00</td>\n",
       "      <td>0.0</td>\n",
       "      <td>-0.530442</td>\n",
       "      <td>3.953785</td>\n",
       "      <td>0.000000</td>\n",
       "    </tr>\n",
       "    <tr>\n",
       "      <th>50%</th>\n",
       "      <td>3696.000000</td>\n",
       "      <td>1.890940e+05</td>\n",
       "      <td>0.0</td>\n",
       "      <td>101.001695</td>\n",
       "      <td>5.016747</td>\n",
       "      <td>0.417011</td>\n",
       "    </tr>\n",
       "    <tr>\n",
       "      <th>75%</th>\n",
       "      <td>9495.000000</td>\n",
       "      <td>1.079288e+06</td>\n",
       "      <td>0.0</td>\n",
       "      <td>173.807705</td>\n",
       "      <td>6.696984</td>\n",
       "      <td>0.512188</td>\n",
       "    </tr>\n",
       "    <tr>\n",
       "      <th>max</th>\n",
       "      <td>18105.000000</td>\n",
       "      <td>3.831454e+07</td>\n",
       "      <td>0.0</td>\n",
       "      <td>3104.974164</td>\n",
       "      <td>828.523214</td>\n",
       "      <td>9.756389</td>\n",
       "    </tr>\n",
       "  </tbody>\n",
       "</table>\n",
       "</div>"
      ],
      "text/plain": [
       "            alt_max          dist  down_acc   horiz_speed       up_acc  \\\n",
       "count  11065.000000  1.106500e+04    6865.0  11065.000000  6850.000000   \n",
       "mean    5012.236790  1.017375e+06       0.0     97.041727     6.126207   \n",
       "std     4540.190330  2.986065e+06       0.0    107.692822    11.411432   \n",
       "min     -201.408012 -2.313441e-01       0.0    -13.592893     1.016949   \n",
       "25%      569.556477  2.754108e+00       0.0     -0.530442     3.953785   \n",
       "50%     3696.000000  1.890940e+05       0.0    101.001695     5.016747   \n",
       "75%     9495.000000  1.079288e+06       0.0    173.807705     6.696984   \n",
       "max    18105.000000  3.831454e+07       0.0   3104.974164   828.523214   \n",
       "\n",
       "        vert_speed  \n",
       "count  4200.000000  \n",
       "mean      0.470705  \n",
       "std       1.105996  \n",
       "min      -1.046500  \n",
       "25%       0.000000  \n",
       "50%       0.417011  \n",
       "75%       0.512188  \n",
       "max       9.756389  "
      ]
     },
     "execution_count": 4,
     "metadata": {},
     "output_type": "execute_result"
    }
   ],
   "source": [
    "df.describe()"
   ]
  },
  {
   "cell_type": "code",
   "execution_count": 5,
   "metadata": {
    "ExecuteTime": {
     "end_time": "2020-08-01T11:59:43.419126Z",
     "start_time": "2020-08-01T11:59:43.141979Z"
    }
   },
   "outputs": [],
   "source": [
    "scaler = MinMaxScaler()"
   ]
  },
  {
   "cell_type": "code",
   "execution_count": 6,
   "metadata": {
    "ExecuteTime": {
     "end_time": "2020-08-01T11:59:44.366613Z",
     "start_time": "2020-08-01T11:59:44.337283Z"
    }
   },
   "outputs": [],
   "source": [
    "df_matrix = scaler.fit_transform(df)"
   ]
  },
  {
   "cell_type": "code",
   "execution_count": 7,
   "metadata": {
    "ExecuteTime": {
     "end_time": "2020-08-01T11:59:45.655962Z",
     "start_time": "2020-08-01T11:59:45.653254Z"
    }
   },
   "outputs": [],
   "source": [
    "df_matrix = np.asarray(df_matrix)"
   ]
  },
  {
   "cell_type": "code",
   "execution_count": 8,
   "metadata": {
    "ExecuteTime": {
     "end_time": "2020-08-01T11:59:46.889058Z",
     "start_time": "2020-08-01T11:59:46.801275Z"
    }
   },
   "outputs": [
    {
     "ename": "ValueError",
     "evalue": "Input contains NaN, infinity or a value too large for dtype('float64').",
     "output_type": "error",
     "traceback": [
      "\u001b[0;31m---------------------------------------------------------------------------\u001b[0m",
      "\u001b[0;31mValueError\u001b[0m                                Traceback (most recent call last)",
      "\u001b[0;32m<ipython-input-8-5f816d8de7f0>\u001b[0m in \u001b[0;36m<module>\u001b[0;34m\u001b[0m\n\u001b[0;32m----> 1\u001b[0;31m \u001b[0mclus\u001b[0m \u001b[0;34m=\u001b[0m \u001b[0msklc\u001b[0m\u001b[0;34m.\u001b[0m\u001b[0mKMeans\u001b[0m\u001b[0;34m(\u001b[0m\u001b[0;36m6\u001b[0m\u001b[0;34m,\u001b[0m \u001b[0mn_init\u001b[0m \u001b[0;34m=\u001b[0m \u001b[0;36m100\u001b[0m\u001b[0;34m,\u001b[0m \u001b[0mmax_iter\u001b[0m \u001b[0;34m=\u001b[0m \u001b[0;36m2000\u001b[0m\u001b[0;34m,\u001b[0m \u001b[0malgorithm\u001b[0m \u001b[0;34m=\u001b[0m \u001b[0;34m'elkan'\u001b[0m\u001b[0;34m)\u001b[0m\u001b[0;34m.\u001b[0m\u001b[0mfit\u001b[0m\u001b[0;34m(\u001b[0m\u001b[0mdf_matrix\u001b[0m\u001b[0;34m)\u001b[0m\u001b[0;34m\u001b[0m\u001b[0;34m\u001b[0m\u001b[0m\n\u001b[0m",
      "\u001b[0;32m~/.local/lib/python3.7/site-packages/sklearn/cluster/_kmeans.py\u001b[0m in \u001b[0;36mfit\u001b[0;34m(self, X, y, sample_weight)\u001b[0m\n\u001b[1;32m    857\u001b[0m         \u001b[0morder\u001b[0m \u001b[0;34m=\u001b[0m \u001b[0;34m\"C\"\u001b[0m \u001b[0;32mif\u001b[0m \u001b[0mself\u001b[0m\u001b[0;34m.\u001b[0m\u001b[0mcopy_x\u001b[0m \u001b[0;32melse\u001b[0m \u001b[0;32mNone\u001b[0m\u001b[0;34m\u001b[0m\u001b[0;34m\u001b[0m\u001b[0m\n\u001b[1;32m    858\u001b[0m         X = check_array(X, accept_sparse='csr', dtype=[np.float64, np.float32],\n\u001b[0;32m--> 859\u001b[0;31m                         order=order, copy=self.copy_x)\n\u001b[0m\u001b[1;32m    860\u001b[0m         \u001b[0;31m# verify that the number of samples given is larger than k\u001b[0m\u001b[0;34m\u001b[0m\u001b[0;34m\u001b[0m\u001b[0;34m\u001b[0m\u001b[0m\n\u001b[1;32m    861\u001b[0m         \u001b[0;32mif\u001b[0m \u001b[0m_num_samples\u001b[0m\u001b[0;34m(\u001b[0m\u001b[0mX\u001b[0m\u001b[0;34m)\u001b[0m \u001b[0;34m<\u001b[0m \u001b[0mself\u001b[0m\u001b[0;34m.\u001b[0m\u001b[0mn_clusters\u001b[0m\u001b[0;34m:\u001b[0m\u001b[0;34m\u001b[0m\u001b[0;34m\u001b[0m\u001b[0m\n",
      "\u001b[0;32m~/.local/lib/python3.7/site-packages/sklearn/utils/validation.py\u001b[0m in \u001b[0;36mcheck_array\u001b[0;34m(array, accept_sparse, accept_large_sparse, dtype, order, copy, force_all_finite, ensure_2d, allow_nd, ensure_min_samples, ensure_min_features, warn_on_dtype, estimator)\u001b[0m\n\u001b[1;32m    576\u001b[0m         \u001b[0;32mif\u001b[0m \u001b[0mforce_all_finite\u001b[0m\u001b[0;34m:\u001b[0m\u001b[0;34m\u001b[0m\u001b[0;34m\u001b[0m\u001b[0m\n\u001b[1;32m    577\u001b[0m             _assert_all_finite(array,\n\u001b[0;32m--> 578\u001b[0;31m                                allow_nan=force_all_finite == 'allow-nan')\n\u001b[0m\u001b[1;32m    579\u001b[0m \u001b[0;34m\u001b[0m\u001b[0m\n\u001b[1;32m    580\u001b[0m     \u001b[0;32mif\u001b[0m \u001b[0mensure_min_samples\u001b[0m \u001b[0;34m>\u001b[0m \u001b[0;36m0\u001b[0m\u001b[0;34m:\u001b[0m\u001b[0;34m\u001b[0m\u001b[0;34m\u001b[0m\u001b[0m\n",
      "\u001b[0;32m~/.local/lib/python3.7/site-packages/sklearn/utils/validation.py\u001b[0m in \u001b[0;36m_assert_all_finite\u001b[0;34m(X, allow_nan, msg_dtype)\u001b[0m\n\u001b[1;32m     58\u001b[0m                     \u001b[0mmsg_err\u001b[0m\u001b[0;34m.\u001b[0m\u001b[0mformat\u001b[0m\u001b[0;34m\u001b[0m\u001b[0;34m\u001b[0m\u001b[0m\n\u001b[1;32m     59\u001b[0m                     (type_err,\n\u001b[0;32m---> 60\u001b[0;31m                      msg_dtype if msg_dtype is not None else X.dtype)\n\u001b[0m\u001b[1;32m     61\u001b[0m             )\n\u001b[1;32m     62\u001b[0m     \u001b[0;31m# for object dtype data, we only check for NaNs (GH-13254)\u001b[0m\u001b[0;34m\u001b[0m\u001b[0;34m\u001b[0m\u001b[0;34m\u001b[0m\u001b[0m\n",
      "\u001b[0;31mValueError\u001b[0m: Input contains NaN, infinity or a value too large for dtype('float64')."
     ]
    }
   ],
   "source": [
    "clus = sklc.KMeans(6, n_init = 100, max_iter = 2000, algorithm = 'elkan').fit(df_matrix)"
   ]
  },
  {
   "cell_type": "code",
   "execution_count": null,
   "metadata": {
    "ExecuteTime": {
     "end_time": "2020-08-01T11:18:32.125628Z",
     "start_time": "2020-08-01T11:18:32.119751Z"
    }
   },
   "outputs": [],
   "source": [
    "kmeans_labels = clus.labels_"
   ]
  },
  {
   "cell_type": "code",
   "execution_count": null,
   "metadata": {
    "ExecuteTime": {
     "end_time": "2020-08-01T11:18:32.935992Z",
     "start_time": "2020-08-01T11:18:32.921303Z"
    }
   },
   "outputs": [],
   "source": [
    "clus.n_iter_"
   ]
  },
  {
   "cell_type": "code",
   "execution_count": null,
   "metadata": {
    "ExecuteTime": {
     "end_time": "2020-08-01T11:18:34.428352Z",
     "start_time": "2020-08-01T11:18:34.420938Z"
    }
   },
   "outputs": [],
   "source": [
    "df['clus_id'] = kmeans_labels"
   ]
  },
  {
   "cell_type": "code",
   "execution_count": null,
   "metadata": {
    "ExecuteTime": {
     "end_time": "2020-08-01T11:18:39.888065Z",
     "start_time": "2020-08-01T11:18:39.882381Z"
    }
   },
   "outputs": [],
   "source": [
    "groups = df.groupby(['clus_id'])"
   ]
  },
  {
   "cell_type": "code",
   "execution_count": null,
   "metadata": {
    "ExecuteTime": {
     "end_time": "2020-08-01T11:18:40.641203Z",
     "start_time": "2020-08-01T11:18:40.618419Z"
    }
   },
   "outputs": [],
   "source": [
    "groups.count()"
   ]
  },
  {
   "cell_type": "code",
   "execution_count": null,
   "metadata": {
    "ExecuteTime": {
     "end_time": "2020-08-01T11:18:41.422119Z",
     "start_time": "2020-08-01T11:18:41.395135Z"
    }
   },
   "outputs": [],
   "source": [
    "groups.mean()"
   ]
  },
  {
   "cell_type": "code",
   "execution_count": null,
   "metadata": {
    "ExecuteTime": {
     "end_time": "2020-08-01T11:20:03.850597Z",
     "start_time": "2020-08-01T11:19:28.914824Z"
    }
   },
   "outputs": [],
   "source": [
    "X_embedded = TSNE(n_components = 2).fit_transform(df_matrix)"
   ]
  },
  {
   "cell_type": "code",
   "execution_count": null,
   "metadata": {
    "ExecuteTime": {
     "end_time": "2020-08-01T11:20:05.673681Z",
     "start_time": "2020-08-01T11:20:05.667886Z"
    }
   },
   "outputs": [],
   "source": [
    "num_clus = 6"
   ]
  },
  {
   "cell_type": "code",
   "execution_count": null,
   "metadata": {
    "ExecuteTime": {
     "end_time": "2020-08-01T11:20:07.701663Z",
     "start_time": "2020-08-01T11:20:06.708437Z"
    }
   },
   "outputs": [],
   "source": [
    "l = []\n",
    "for i in range(num_clus):\n",
    "    new_list = []\n",
    "    l.append(new_list)\n",
    "for i, x in enumerate(X_embedded):\n",
    "    l[kmeans_labels[i]].append(x)\n",
    "for i in range(num_clus):\n",
    "    l[i] = np.asarray(l[i])"
   ]
  },
  {
   "cell_type": "code",
   "execution_count": null,
   "metadata": {
    "ExecuteTime": {
     "end_time": "2020-08-01T11:20:13.108928Z",
     "start_time": "2020-08-01T11:20:13.102886Z"
    }
   },
   "outputs": [],
   "source": [
    "l = np.asarray(l)"
   ]
  },
  {
   "cell_type": "code",
   "execution_count": null,
   "metadata": {
    "ExecuteTime": {
     "end_time": "2020-08-01T05:34:04.452481Z",
     "start_time": "2020-08-01T05:34:04.422421Z"
    }
   },
   "outputs": [],
   "source": [
    "l"
   ]
  },
  {
   "cell_type": "code",
   "execution_count": null,
   "metadata": {
    "ExecuteTime": {
     "end_time": "2020-08-01T03:58:02.340500Z",
     "start_time": "2020-08-01T03:58:02.331346Z"
    }
   },
   "outputs": [],
   "source": [
    "l[7]"
   ]
  },
  {
   "cell_type": "code",
   "execution_count": null,
   "metadata": {
    "ExecuteTime": {
     "end_time": "2020-08-01T11:20:16.053225Z",
     "start_time": "2020-08-01T11:20:15.812862Z"
    }
   },
   "outputs": [],
   "source": [
    "import matplotlib.pyplot as plt\n",
    "for i,x in enumerate(l):\n",
    "    plt.plot(x[:,0], x[:,1], '.', label = 'cluster '+ str(i))\n",
    "plt.legend()\n",
    "plt.show()"
   ]
  },
  {
   "cell_type": "code",
   "execution_count": null,
   "metadata": {
    "ExecuteTime": {
     "end_time": "2020-08-01T05:34:44.815587Z",
     "start_time": "2020-08-01T05:34:44.810101Z"
    }
   },
   "outputs": [],
   "source": [
    "X_2 = X_embedded"
   ]
  },
  {
   "cell_type": "code",
   "execution_count": null,
   "metadata": {},
   "outputs": [],
   "source": []
  },
  {
   "cell_type": "code",
   "execution_count": null,
   "metadata": {
    "ExecuteTime": {
     "end_time": "2020-07-31T06:11:35.265160Z",
     "start_time": "2020-07-31T06:11:35.260483Z"
    }
   },
   "outputs": [],
   "source": [
    "groups['alt_max'].count()"
   ]
  },
  {
   "cell_type": "code",
   "execution_count": null,
   "metadata": {
    "ExecuteTime": {
     "end_time": "2020-07-31T06:11:36.288613Z",
     "start_time": "2020-07-31T06:11:36.278280Z"
    }
   },
   "outputs": [],
   "source": [
    "groups.mean()"
   ]
  },
  {
   "cell_type": "code",
   "execution_count": null,
   "metadata": {},
   "outputs": [],
   "source": []
  },
  {
   "cell_type": "code",
   "execution_count": null,
   "metadata": {
    "ExecuteTime": {
     "end_time": "2020-07-31T05:58:01.145710Z",
     "start_time": "2020-07-31T05:58:00.976397Z"
    }
   },
   "outputs": [],
   "source": [
    "plt.plot(df['clus_id'], '.')\n",
    "plt.show()"
   ]
  },
  {
   "cell_type": "code",
   "execution_count": null,
   "metadata": {
    "ExecuteTime": {
     "end_time": "2020-07-31T07:46:02.138446Z",
     "start_time": "2020-07-31T07:46:02.118610Z"
    }
   },
   "outputs": [],
   "source": [
    "main_df = pd.read_csv('features.csv')"
   ]
  },
  {
   "cell_type": "code",
   "execution_count": null,
   "metadata": {
    "ExecuteTime": {
     "end_time": "2020-07-31T07:46:03.763052Z",
     "start_time": "2020-07-31T07:46:03.748701Z"
    }
   },
   "outputs": [],
   "source": [
    "main_df"
   ]
  },
  {
   "cell_type": "code",
   "execution_count": null,
   "metadata": {
    "ExecuteTime": {
     "end_time": "2020-07-30T13:28:25.463875Z",
     "start_time": "2020-07-30T13:28:25.460459Z"
    }
   },
   "outputs": [],
   "source": [
    "df['dist'] = np.sqrt(main_df['dist'])"
   ]
  },
  {
   "cell_type": "code",
   "execution_count": null,
   "metadata": {
    "ExecuteTime": {
     "end_time": "2020-07-31T07:46:37.003099Z",
     "start_time": "2020-07-31T07:46:36.987071Z"
    }
   },
   "outputs": [],
   "source": [
    "main_df['horiz_speed'] *= 111000\n",
    "main_df['dist'] *= 111000"
   ]
  },
  {
   "cell_type": "code",
   "execution_count": null,
   "metadata": {
    "ExecuteTime": {
     "end_time": "2020-07-31T07:46:10.906556Z",
     "start_time": "2020-07-31T07:46:10.889794Z"
    }
   },
   "outputs": [],
   "source": [
    "main_df['clus_id'] = kmeans_labels"
   ]
  },
  {
   "cell_type": "code",
   "execution_count": null,
   "metadata": {
    "ExecuteTime": {
     "end_time": "2020-07-31T07:39:36.643587Z",
     "start_time": "2020-07-31T07:39:36.640965Z"
    }
   },
   "outputs": [],
   "source": [
    "plot_df = pd.DataFrame()"
   ]
  },
  {
   "cell_type": "code",
   "execution_count": null,
   "metadata": {
    "ExecuteTime": {
     "end_time": "2020-07-31T07:39:44.996264Z",
     "start_time": "2020-07-31T07:39:44.990288Z"
    }
   },
   "outputs": [],
   "source": [
    "plot_df['filename'] = main_df['fname']"
   ]
  },
  {
   "cell_type": "code",
   "execution_count": null,
   "metadata": {
    "ExecuteTime": {
     "end_time": "2020-07-31T07:39:39.541881Z",
     "start_time": "2020-07-31T07:39:39.534948Z"
    }
   },
   "outputs": [],
   "source": [
    "plot_df['x'] = X_embedded[:,0]\n",
    "plot_df['y'] = X_embedded[:,1]\n",
    "#plot_df['z'] = X_embedded[:,2]"
   ]
  },
  {
   "cell_type": "code",
   "execution_count": null,
   "metadata": {
    "ExecuteTime": {
     "end_time": "2020-07-31T07:39:53.487819Z",
     "start_time": "2020-07-31T07:39:53.484751Z"
    }
   },
   "outputs": [],
   "source": [
    "plot_df['clus_id'] = clus.labels_"
   ]
  },
  {
   "cell_type": "code",
   "execution_count": null,
   "metadata": {
    "ExecuteTime": {
     "end_time": "2020-07-31T07:39:57.945850Z",
     "start_time": "2020-07-31T07:39:57.785982Z"
    }
   },
   "outputs": [],
   "source": [
    "plot_df.to_csv('tsne_3d_plot.csv', index = False)"
   ]
  },
  {
   "cell_type": "code",
   "execution_count": null,
   "metadata": {
    "ExecuteTime": {
     "end_time": "2020-07-30T13:06:16.398039Z",
     "start_time": "2020-07-30T13:06:16.381298Z"
    }
   },
   "outputs": [],
   "source": [
    "plot_df.groupby(['clus_id']).get_group(2)['filename'].to_csv('files_clus_2.csv', index = False)"
   ]
  },
  {
   "cell_type": "code",
   "execution_count": null,
   "metadata": {
    "ExecuteTime": {
     "end_time": "2020-07-31T07:40:09.762806Z",
     "start_time": "2020-07-31T07:40:09.751151Z"
    }
   },
   "outputs": [],
   "source": [
    "plot_df"
   ]
  },
  {
   "cell_type": "code",
   "execution_count": null,
   "metadata": {
    "ExecuteTime": {
     "end_time": "2020-07-31T06:21:56.060314Z",
     "start_time": "2020-07-31T06:21:55.925198Z"
    }
   },
   "outputs": [],
   "source": [
    "plt.plot (np.random.normal(5, 0.6, 100))\n",
    "plt.show()"
   ]
  }
 ],
 "metadata": {
  "kernelspec": {
   "display_name": "Python 3",
   "language": "python",
   "name": "python3"
  },
  "language_info": {
   "codemirror_mode": {
    "name": "ipython",
    "version": 3
   },
   "file_extension": ".py",
   "mimetype": "text/x-python",
   "name": "python",
   "nbconvert_exporter": "python",
   "pygments_lexer": "ipython3",
   "version": "3.7.4"
  }
 },
 "nbformat": 4,
 "nbformat_minor": 2
}
