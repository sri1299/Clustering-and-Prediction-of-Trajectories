{
 "cells": [
  {
   "cell_type": "code",
   "execution_count": 1,
   "metadata": {
    "ExecuteTime": {
     "end_time": "2020-08-01T12:23:49.262470Z",
     "start_time": "2020-08-01T12:23:48.654547Z"
    }
   },
   "outputs": [],
   "source": [
    "import os\n",
    "import glob\n",
    "from sklearn.preprocessing import MinMaxScaler\n",
    "import pandas as pd\n",
    "import numpy as np"
   ]
  },
  {
   "cell_type": "code",
   "execution_count": 2,
   "metadata": {
    "ExecuteTime": {
     "end_time": "2020-08-01T12:23:49.992342Z",
     "start_time": "2020-08-01T12:23:49.986434Z"
    }
   },
   "outputs": [],
   "source": [
    "features = pd.DataFrame()"
   ]
  },
  {
   "cell_type": "code",
   "execution_count": null,
   "metadata": {},
   "outputs": [],
   "source": [
    "'''alt_max = []\n",
    "alt_av = []\n",
    "dist_av = []\n",
    "plane_speed_av = []\n",
    "dalt_av = []\n",
    "fnames = []'''"
   ]
  },
  {
   "cell_type": "code",
   "execution_count": 3,
   "metadata": {
    "ExecuteTime": {
     "end_time": "2020-08-01T12:24:08.422049Z",
     "start_time": "2020-08-01T12:23:51.474022Z"
    }
   },
   "outputs": [
    {
     "name": "stderr",
     "output_type": "stream",
     "text": [
      "/home/sriram12/.local/lib/python3.7/site-packages/numpy/core/fromnumeric.py:3335: RuntimeWarning: Mean of empty slice.\n",
      "  out=out, **kwargs)\n",
      "/home/sriram12/.local/lib/python3.7/site-packages/numpy/core/_methods.py:161: RuntimeWarning: invalid value encountered in double_scalars\n",
      "  ret = ret.dtype.type(ret / rcount)\n"
     ]
    }
   ],
   "source": [
    "f_list = []\n",
    "path = './data/'\n",
    "for filename in glob.glob(os.path.join(path, '*.tsv')):\n",
    "    if 'unknown' in filename:\n",
    "        continue\n",
    "    df = pd.read_csv(filename, sep = '\\t')\n",
    "    dphi = np.diff(np.asarray(df['latitude'].values, dtype = np.float64))\n",
    "    dlambda = np.diff(np.asarray(df['longitude'].values, dtype = np.float64))\n",
    "    dalt = np.diff(np.diff(np.asarray(df['altitude_meters'].values, dtype = np.float64)))\n",
    "    dt = np.diff(np.asarray(df['timestamp'].values, dtype = np.float64))\n",
    "    if 0 in dt:\n",
    "        continue\n",
    "    if len(dt) < 20:\n",
    "        continue\n",
    "    try:\n",
    "        dphi /= dt\n",
    "        dlambda /= dt\n",
    "        dalt /= dt[1:]\n",
    "    except:\n",
    "        continue\n",
    "    \n",
    "    dalt_mean = 0\n",
    "    if np.where(np.absolute(dalt) > 0.5):\n",
    "        dalt_mean = np.mean(dalt[np.where(np.absolute(dalt) > 0.5)])\n",
    "    plane_speed = np.sqrt(np.power(dphi, 2) + np.power(dlambda, 2))\n",
    "    dist = ((df['latitude'].values[-1] - df['latitude'].values[0]) ** 2 +\n",
    "        (df['longitude'].values[-1] - df['longitude'].values[0]) ** 2)\n",
    "    dist = np.sqrt(dist)\n",
    "    if np.isnan(np.sum(plane_speed)):\n",
    "        continue\n",
    "    if np.isnan(np.sum(dalt)):\n",
    "        continue\n",
    "    if dist == 0:\n",
    "        continue\n",
    "    l = np.asarray([np.max(np.asarray(df['altitude_meters'].values, \n",
    "            dtype = np.float64)), dalt_mean,\n",
    "            np.mean(plane_speed), dist])\n",
    "    is_nan = False\n",
    "    for i in np.isnan(l):\n",
    "        is_nan = i and is_nan\n",
    "    if not is_nan:\n",
    "        f_list.append([filename, np.max(np.asarray(df['altitude_meters'].values, \n",
    "            dtype = np.float64)), dalt_mean,\n",
    "            np.mean(plane_speed), dist])"
   ]
  },
  {
   "cell_type": "code",
   "execution_count": null,
   "metadata": {
    "ExecuteTime": {
     "end_time": "2020-08-01T12:16:32.641072Z",
     "start_time": "2020-08-01T12:16:32.630860Z"
    }
   },
   "outputs": [],
   "source": [
    "len(f_list)"
   ]
  },
  {
   "cell_type": "code",
   "execution_count": null,
   "metadata": {
    "ExecuteTime": {
     "end_time": "2020-08-01T12:16:34.937257Z",
     "start_time": "2020-08-01T12:16:34.878420Z"
    }
   },
   "outputs": [],
   "source": [
    "f_list = np.asarray(f_list)"
   ]
  },
  {
   "cell_type": "code",
   "execution_count": null,
   "metadata": {
    "ExecuteTime": {
     "end_time": "2020-08-01T12:16:35.876658Z",
     "start_time": "2020-08-01T12:16:35.866938Z"
    }
   },
   "outputs": [],
   "source": [
    "len(f_list[5])"
   ]
  },
  {
   "cell_type": "code",
   "execution_count": null,
   "metadata": {
    "ExecuteTime": {
     "end_time": "2020-08-01T12:16:36.927258Z",
     "start_time": "2020-08-01T12:16:36.902076Z"
    }
   },
   "outputs": [],
   "source": [
    "for idx, x in enumerate(['fname', 'alt_max', 'vert_acc', 'horiz_speed', 'dist']):\n",
    "    features[x] = f_list[:, idx]"
   ]
  },
  {
   "cell_type": "code",
   "execution_count": null,
   "metadata": {
    "ExecuteTime": {
     "end_time": "2020-08-01T12:16:37.757006Z",
     "start_time": "2020-08-01T12:16:37.711604Z"
    }
   },
   "outputs": [],
   "source": [
    "features.to_csv('features.csv', index = False)"
   ]
  },
  {
   "cell_type": "code",
   "execution_count": null,
   "metadata": {
    "ExecuteTime": {
     "end_time": "2020-08-01T12:16:38.624193Z",
     "start_time": "2020-08-01T12:16:38.567762Z"
    }
   },
   "outputs": [],
   "source": [
    "features.describe()"
   ]
  },
  {
   "cell_type": "code",
   "execution_count": null,
   "metadata": {
    "ExecuteTime": {
     "end_time": "2020-08-01T12:01:04.911603Z",
     "start_time": "2020-08-01T12:01:04.909078Z"
    }
   },
   "outputs": [],
   "source": [
    "scaler = MinMaxScaler()"
   ]
  },
  {
   "cell_type": "code",
   "execution_count": null,
   "metadata": {
    "ExecuteTime": {
     "end_time": "2020-07-30T07:56:50.794746Z",
     "start_time": "2020-07-30T07:56:50.737498Z"
    }
   },
   "outputs": [],
   "source": [
    "features['alt_max'].mean()"
   ]
  },
  {
   "cell_type": "code",
   "execution_count": null,
   "metadata": {
    "ExecuteTime": {
     "end_time": "2020-07-30T07:11:08.832386Z",
     "start_time": "2020-07-30T07:11:08.770093Z"
    }
   },
   "outputs": [],
   "source": [
    "scaled_data = scaler.fit_transform(features.drop(['fname'], axis = 1).values)"
   ]
  },
  {
   "cell_type": "code",
   "execution_count": null,
   "metadata": {
    "ExecuteTime": {
     "end_time": "2020-08-01T12:01:09.201982Z",
     "start_time": "2020-08-01T12:01:09.179953Z"
    }
   },
   "outputs": [],
   "source": [
    "features.drop(['fname'], axis = 1).to_csv('features_only.csv', index = False)"
   ]
  },
  {
   "cell_type": "code",
   "execution_count": null,
   "metadata": {},
   "outputs": [],
   "source": []
  },
  {
   "cell_type": "code",
   "execution_count": null,
   "metadata": {},
   "outputs": [],
   "source": []
  },
  {
   "cell_type": "code",
   "execution_count": null,
   "metadata": {},
   "outputs": [],
   "source": []
  }
 ],
 "metadata": {
  "kernelspec": {
   "display_name": "Python 3",
   "language": "python",
   "name": "python3"
  },
  "language_info": {
   "codemirror_mode": {
    "name": "ipython",
    "version": 3
   },
   "file_extension": ".py",
   "mimetype": "text/x-python",
   "name": "python",
   "nbconvert_exporter": "python",
   "pygments_lexer": "ipython3",
   "version": "3.7.4"
  }
 },
 "nbformat": 4,
 "nbformat_minor": 2
}
