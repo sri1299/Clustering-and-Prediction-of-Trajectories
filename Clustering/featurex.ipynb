{
 "cells": [
  {
   "cell_type": "markdown",
   "metadata": {},
   "source": [
    "# Feature Extraction"
   ]
  },
  {
   "cell_type": "code",
   "execution_count": 1,
   "metadata": {
    "ExecuteTime": {
     "end_time": "2020-08-03T09:13:37.253913Z",
     "start_time": "2020-08-03T09:13:36.749869Z"
    }
   },
   "outputs": [],
   "source": [
    "import os\n",
    "import glob\n",
    "from sklearn.preprocessing import MinMaxScaler\n",
    "import pandas as pd\n",
    "import numpy as np"
   ]
  },
  {
   "cell_type": "code",
   "execution_count": 2,
   "metadata": {
    "ExecuteTime": {
     "end_time": "2020-08-03T09:13:37.258380Z",
     "start_time": "2020-08-03T09:13:37.255546Z"
    }
   },
   "outputs": [],
   "source": [
    "features = pd.DataFrame()"
   ]
  },
  {
   "cell_type": "markdown",
   "metadata": {},
   "source": [
    "## Traversing through files to extract features"
   ]
  },
  {
   "cell_type": "code",
   "execution_count": 3,
   "metadata": {
    "ExecuteTime": {
     "end_time": "2020-08-03T09:13:37.358570Z",
     "start_time": "2020-08-03T09:13:37.260178Z"
    }
   },
   "outputs": [
    {
     "name": "stdout",
     "output_type": "stream",
     "text": [
      "813.4739056032413\n",
      "0.0\n",
      "10.000000000014552\n",
      "15.022958443625612\n",
      "654.904534982571\n"
     ]
    }
   ],
   "source": [
    "f_list = []\n",
    "path = './test_files'\n",
    "for filename in glob.glob(os.path.join(path, '*.csv')):\n",
    "    df = pd.read_csv(filename)\n",
    "    dphi = np.diff(np.asarray(df['lat'].values, dtype = np.float64))\n",
    "    dlambda = np.diff(np.asarray(df['lon'].values, dtype = np.float64))\n",
    "    d2alt = np.diff(np.diff(np.asarray(df['alt'].values, dtype = np.float64)))\n",
    "    dt = np.diff(np.asarray(df['t'].values, dtype = np.float64))\n",
    "    dphi /= dt\n",
    "    dlambda /= dt\n",
    "    d2alt /= dt[:-1]\n",
    "         \n",
    "    dalt_mean = np.mean(d2alt)\n",
    "    \n",
    "    threshold_for_maneuver = 30\n",
    "    is_maneuver = 0\n",
    "    print (np.max(np.abs(d2alt)))\n",
    "    if np.max(np.abs(d2alt)) > threshold_for_maneuver:\n",
    "        is_maneuver = 1\n",
    "    plane_speed = np.sqrt(np.power(dphi, 2) + np.power(dlambda, 2)) \n",
    "    \n",
    "    plane_speed *= 111000\n",
    "    \n",
    "    dist = ((df['lat'].values[-1] - df['lat'].values[0]) ** 2 +\n",
    "        (df['lon'].values[-1] - df['lon'].values[0]) ** 2)\n",
    "    dist = np.sqrt(dist)\n",
    "    \n",
    "    f_list.append([filename, np.max(np.asarray(df['alt'].values, \n",
    "            dtype = np.float64)), dalt_mean,\n",
    "            np.mean(plane_speed), dist, is_maneuver])"
   ]
  },
  {
   "cell_type": "code",
   "execution_count": null,
   "metadata": {},
   "outputs": [],
   "source": []
  },
  {
   "cell_type": "code",
   "execution_count": 4,
   "metadata": {
    "ExecuteTime": {
     "end_time": "2020-08-03T09:13:37.473541Z",
     "start_time": "2020-08-03T09:13:37.360751Z"
    }
   },
   "outputs": [
    {
     "data": {
      "text/plain": [
       "5"
      ]
     },
     "execution_count": 4,
     "metadata": {},
     "output_type": "execute_result"
    }
   ],
   "source": [
    "len(f_list)"
   ]
  },
  {
   "cell_type": "code",
   "execution_count": 5,
   "metadata": {
    "ExecuteTime": {
     "end_time": "2020-08-03T09:13:37.531807Z",
     "start_time": "2020-08-03T09:13:37.480405Z"
    }
   },
   "outputs": [],
   "source": [
    "f_list = np.asarray(f_list)"
   ]
  },
  {
   "cell_type": "code",
   "execution_count": 7,
   "metadata": {
    "ExecuteTime": {
     "end_time": "2020-08-03T09:14:04.318957Z",
     "start_time": "2020-08-03T09:14:04.311226Z"
    }
   },
   "outputs": [],
   "source": [
    "for idx, x in enumerate(['fname', 'alt_max', 'vert_acc', 'horiz_speed', 'dist', 'is_maneuver']):\n",
    "    features[x] = f_list[:, idx]"
   ]
  },
  {
   "cell_type": "code",
   "execution_count": 8,
   "metadata": {
    "ExecuteTime": {
     "end_time": "2020-08-03T09:14:08.149026Z",
     "start_time": "2020-08-03T09:14:08.124230Z"
    }
   },
   "outputs": [
    {
     "data": {
      "text/html": [
       "<div>\n",
       "<style scoped>\n",
       "    .dataframe tbody tr th:only-of-type {\n",
       "        vertical-align: middle;\n",
       "    }\n",
       "\n",
       "    .dataframe tbody tr th {\n",
       "        vertical-align: top;\n",
       "    }\n",
       "\n",
       "    .dataframe thead th {\n",
       "        text-align: right;\n",
       "    }\n",
       "</style>\n",
       "<table border=\"1\" class=\"dataframe\">\n",
       "  <thead>\n",
       "    <tr style=\"text-align: right;\">\n",
       "      <th></th>\n",
       "      <th>fname</th>\n",
       "      <th>alt_max</th>\n",
       "      <th>vert_acc</th>\n",
       "      <th>horiz_speed</th>\n",
       "      <th>dist</th>\n",
       "      <th>is_maneuver</th>\n",
       "    </tr>\n",
       "  </thead>\n",
       "  <tbody>\n",
       "    <tr>\n",
       "      <th>count</th>\n",
       "      <td>5</td>\n",
       "      <td>5</td>\n",
       "      <td>5</td>\n",
       "      <td>5</td>\n",
       "      <td>5</td>\n",
       "      <td>5</td>\n",
       "    </tr>\n",
       "    <tr>\n",
       "      <th>unique</th>\n",
       "      <td>5</td>\n",
       "      <td>5</td>\n",
       "      <td>5</td>\n",
       "      <td>5</td>\n",
       "      <td>5</td>\n",
       "      <td>2</td>\n",
       "    </tr>\n",
       "    <tr>\n",
       "      <th>top</th>\n",
       "      <td>./test_files/traj21.csv</td>\n",
       "      <td>8067.8996402249695</td>\n",
       "      <td>0.0</td>\n",
       "      <td>2807.9897656181306</td>\n",
       "      <td>0.13132728153315604</td>\n",
       "      <td>0</td>\n",
       "    </tr>\n",
       "    <tr>\n",
       "      <th>freq</th>\n",
       "      <td>1</td>\n",
       "      <td>1</td>\n",
       "      <td>1</td>\n",
       "      <td>1</td>\n",
       "      <td>1</td>\n",
       "      <td>3</td>\n",
       "    </tr>\n",
       "  </tbody>\n",
       "</table>\n",
       "</div>"
      ],
      "text/plain": [
       "                          fname             alt_max vert_acc  \\\n",
       "count                         5                   5        5   \n",
       "unique                        5                   5        5   \n",
       "top     ./test_files/traj21.csv  8067.8996402249695      0.0   \n",
       "freq                          1                   1        1   \n",
       "\n",
       "               horiz_speed                 dist is_maneuver  \n",
       "count                    5                    5           5  \n",
       "unique                   5                    5           2  \n",
       "top     2807.9897656181306  0.13132728153315604           0  \n",
       "freq                     1                    1           3  "
      ]
     },
     "execution_count": 8,
     "metadata": {},
     "output_type": "execute_result"
    }
   ],
   "source": [
    "features.describe()"
   ]
  },
  {
   "cell_type": "code",
   "execution_count": null,
   "metadata": {},
   "outputs": [],
   "source": []
  },
  {
   "cell_type": "code",
   "execution_count": 9,
   "metadata": {
    "ExecuteTime": {
     "end_time": "2020-08-03T09:14:32.150555Z",
     "start_time": "2020-08-03T09:14:32.146908Z"
    }
   },
   "outputs": [],
   "source": [
    "features = features.sort_values(['fname'], ascending = [1], axis = 0)"
   ]
  },
  {
   "cell_type": "markdown",
   "metadata": {},
   "source": [
    "## Radar Cross Section Features Included"
   ]
  },
  {
   "cell_type": "code",
   "execution_count": 10,
   "metadata": {
    "ExecuteTime": {
     "end_time": "2020-08-03T09:14:34.799952Z",
     "start_time": "2020-08-03T09:14:34.795142Z"
    }
   },
   "outputs": [],
   "source": [
    "rcs_mean = [80, 3, 0.01, 0.1, 15]"
   ]
  },
  {
   "cell_type": "code",
   "execution_count": 11,
   "metadata": {
    "ExecuteTime": {
     "end_time": "2020-08-03T09:14:35.805453Z",
     "start_time": "2020-08-03T09:14:35.800016Z"
    }
   },
   "outputs": [],
   "source": [
    "rcs_values = []\n",
    "for i in rcs_mean:\n",
    "    for k in np.random.normal(i, i/10, 1):\n",
    "        rcs_values.append(k)"
   ]
  },
  {
   "cell_type": "code",
   "execution_count": null,
   "metadata": {
    "ExecuteTime": {
     "end_time": "2020-08-03T09:13:37.714426Z",
     "start_time": "2020-08-03T09:13:36.768Z"
    }
   },
   "outputs": [],
   "source": [
    "len(rcs_values)"
   ]
  },
  {
   "cell_type": "code",
   "execution_count": 12,
   "metadata": {
    "ExecuteTime": {
     "end_time": "2020-08-03T09:14:39.134787Z",
     "start_time": "2020-08-03T09:14:39.126147Z"
    }
   },
   "outputs": [
    {
     "data": {
      "text/plain": [
       "[91.83784268013125,\n",
       " 2.8218944430413226,\n",
       " 0.01036623202065583,\n",
       " 0.1047093708129697,\n",
       " 13.527321733401044]"
      ]
     },
     "execution_count": 12,
     "metadata": {},
     "output_type": "execute_result"
    }
   ],
   "source": [
    "rcs_values"
   ]
  },
  {
   "cell_type": "code",
   "execution_count": 13,
   "metadata": {
    "ExecuteTime": {
     "end_time": "2020-08-03T09:14:41.471956Z",
     "start_time": "2020-08-03T09:14:41.466388Z"
    }
   },
   "outputs": [],
   "source": [
    "features['rcs'] = rcs_values"
   ]
  },
  {
   "cell_type": "code",
   "execution_count": 14,
   "metadata": {
    "ExecuteTime": {
     "end_time": "2020-08-03T09:14:43.922748Z",
     "start_time": "2020-08-03T09:14:43.918696Z"
    }
   },
   "outputs": [],
   "source": [
    "features.to_csv('test_features.csv', index = False)"
   ]
  },
  {
   "cell_type": "code",
   "execution_count": null,
   "metadata": {
    "ExecuteTime": {
     "end_time": "2020-08-03T09:13:37.719125Z",
     "start_time": "2020-08-03T09:13:36.774Z"
    }
   },
   "outputs": [],
   "source": [
    "features"
   ]
  }
 ],
 "metadata": {
  "kernelspec": {
   "display_name": "Python 3",
   "language": "python",
   "name": "python3"
  },
  "language_info": {
   "codemirror_mode": {
    "name": "ipython",
    "version": 3
   },
   "file_extension": ".py",
   "mimetype": "text/x-python",
   "name": "python",
   "nbconvert_exporter": "python",
   "pygments_lexer": "ipython3",
   "version": "3.7.4"
  }
 },
 "nbformat": 4,
 "nbformat_minor": 2
}
