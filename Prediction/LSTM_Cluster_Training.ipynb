{
  "nbformat": 4,
  "nbformat_minor": 0,
  "metadata": {
    "colab": {
      "name": "RNN_CLUSTER.ipynb",
      "provenance": [],
      "collapsed_sections": [
        "4BcGKVOYynMZ"
      ],
      "toc_visible": true
    },
    "kernelspec": {
      "name": "python3",
      "display_name": "Python 3"
    },
    "accelerator": "GPU"
  },
  "cells": [
    {
      "cell_type": "markdown",
      "metadata": {
        "id": "nD3EGW0Ot3BX",
        "colab_type": "text"
      },
      "source": [
        "$\\textbf{Code}$"
      ]
    },
    {
      "cell_type": "markdown",
      "metadata": {
        "id": "XpcQQtHjt2Re",
        "colab_type": "text"
      },
      "source": [
        "## Libraries required"
      ]
    },
    {
      "cell_type": "code",
      "metadata": {
        "id": "2ei_Jer-t1ap",
        "colab_type": "code",
        "colab": {}
      },
      "source": [
        "# Importing packages\n",
        "import matplotlib.pyplot as plt\n",
        "import numpy as np\n",
        "import torch\n",
        "import torch.nn as nn\n",
        "import torch.optim as optim\n",
        "import math\n",
        "import pandas as pd\n",
        "device = torch.device(\"cuda:0\" if torch.cuda.is_available() else \"cpu\")\n",
        "import torch.nn.functional as F"
      ],
      "execution_count": null,
      "outputs": []
    },
    {
      "cell_type": "markdown",
      "metadata": {
        "id": "kzXHjCd9t-W3",
        "colab_type": "text"
      },
      "source": [
        "## Functions used"
      ]
    },
    {
      "cell_type": "markdown",
      "metadata": {
        "id": "VFRq8RsQxizi",
        "colab_type": "text"
      },
      "source": [
        "### Input prepartion functions"
      ]
    },
    {
      "cell_type": "markdown",
      "metadata": {
        "id": "zDCuEzwSyJWJ",
        "colab_type": "text"
      },
      "source": [
        "Convert trajectory tensor to our required format"
      ]
    },
    {
      "cell_type": "code",
      "metadata": {
        "id": "uu-XiT9Ls1X4",
        "colab_type": "code",
        "colab": {}
      },
      "source": [
        "def trajectory_conversion(trajectory):\n",
        "  input_trajectory = torch.zeros(len(trajectory), 3)\n",
        "  for i in range(1, trajectory.size()[0]):\n",
        "    del_x = trajectory[i][0]-trajectory[i-1][0]\n",
        "    del_y = trajectory[i][1]-trajectory[i-1][1]\n",
        "    del_z = trajectory[i][2]-trajectory[i-1][2]\n",
        "\n",
        "    input_trajectory[i][0] = del_x\n",
        "\n",
        "    input_trajectory[i][1] = del_y\n",
        "\n",
        "    input_trajectory[i][2] = del_z\n",
        "\n",
        "  return input_trajectory"
      ],
      "execution_count": null,
      "outputs": []
    },
    {
      "cell_type": "code",
      "metadata": {
        "id": "sgKbB7259KTH",
        "colab_type": "code",
        "colab": {}
      },
      "source": [
        "def create_inout_sequences(input_data, tw=100):\n",
        "    inout_seq = []\n",
        "    L = len(input_data)\n",
        "    for i in range(L-tw):\n",
        "        train_seq = input_data[i:i+tw].to(device)\n",
        "        train_label = input_data[i+tw].to(device) #changed to correct error\n",
        "        inout_seq.append((train_seq ,train_label))\n",
        "    return inout_seq"
      ],
      "execution_count": null,
      "outputs": []
    },
    {
      "cell_type": "markdown",
      "metadata": {
        "id": "es7cNVCGuOdZ",
        "colab_type": "text"
      },
      "source": [
        "### model"
      ]
    },
    {
      "cell_type": "code",
      "metadata": {
        "id": "rgVFYWi7xWZc",
        "colab_type": "code",
        "colab": {}
      },
      "source": [
        "class LSTM(nn.Module):\n",
        "    def __init__(self, input_size=3, hidden_layer_size=128, output_size=3):\n",
        "        super().__init__()\n",
        "        self.hidden_layer_size = hidden_layer_size\n",
        "\n",
        "        self.lstm = nn.LSTM(input_size, hidden_layer_size)\n",
        "\n",
        "        self.linear = nn.Linear(hidden_layer_size, output_size)\n",
        "\n",
        "        self.hidden_cell = (torch.zeros(1,1,self.hidden_layer_size, device=device),\n",
        "                            torch.zeros(1,1,self.hidden_layer_size, device=device))\n",
        "\n",
        "    def forward(self, input_seq):\n",
        "        lstm_out, self.hidden_cell = self.lstm(input_seq.view(len(input_seq) ,1, -1), self.hidden_cell)\n",
        "        lstm_out = F.relu(lstm_out.view(len(input_seq), -1))\n",
        "        predictions = self.linear(lstm_out.view(len(input_seq), -1))\n",
        "        return predictions[-1]"
      ],
      "execution_count": null,
      "outputs": []
    },
    {
      "cell_type": "markdown",
      "metadata": {
        "id": "MqGtTvZ5xtp4",
        "colab_type": "text"
      },
      "source": [
        "### training"
      ]
    },
    {
      "cell_type": "code",
      "metadata": {
        "id": "xLXpDchgzYIG",
        "colab_type": "code",
        "colab": {}
      },
      "source": [
        "def train_model(net, train_inout_seq, lr=0.001, epochs=20, device=device):\n",
        "  model = net.to(device)\n",
        "  optimizer = torch.optim.Adam(model.parameters(), lr=lr)\n",
        "  loss_function = nn.MSELoss()\n",
        "  model.train()\n",
        "  #print(model)\n",
        "  for i in range(epochs):\n",
        "    #optimizer.zero_grad()\n",
        "    for seq, labels in train_inout_seq:\n",
        "      optimizer.zero_grad()\n",
        "      model.hidden_cell = (torch.zeros(1, 1, model.hidden_layer_size, device=device), torch.zeros(1, 1, model.hidden_layer_size, device=device))\n",
        "\n",
        "      pred = model(seq)\n",
        "\n",
        "      single_loss = loss_function(pred, labels)\n",
        "      single_loss.backward()\n",
        "      optimizer.step()\n",
        "    #optimizer.step()\n",
        "\n",
        "  return model"
      ],
      "execution_count": null,
      "outputs": []
    },
    {
      "cell_type": "code",
      "metadata": {
        "id": "qytafco7Nhyl",
        "colab_type": "code",
        "colab": {}
      },
      "source": [
        "def getTrain_TestTensor(filename):\n",
        "  data = pd.read_csv(filename)\n",
        "  df = pd.DataFrame(data)\n",
        "  df = df.drop(columns=['#date', 'ssh[m]', 'average_ssh[m]', 'geoid_height[m]', 'tide_height[cm]'])\n",
        "  df['timestamp'] = pd.to_timedelta(df['time']).astype('timedelta64[s]').astype(int)\n",
        "  df['relative_timestamp'] = df['timestamp']-df['timestamp'][0]\n",
        "  df = df.drop(columns=['time', 'timestamp'])\n",
        "  tl = int(len(df)*0.68)\n",
        "  print(tl)\n",
        "  testSize = int(len(df)) - tl\n",
        "  print(testSize)\n",
        "\n",
        "  trainTensor = torch.zeros(tl, 3).to(device)\n",
        "  trainTensor[0][0] = df['latitude'][0]\n",
        "  trainTensor[0][1] = df['longitude'][0]\n",
        "  trainTensor[0][2] = df['flight_altitude[m]'][0]\n",
        "  print(trainTensor.shape)\n",
        "  #Remove unneccary points\n",
        "  j = 0\n",
        "  for i in range(1, tl):\n",
        "    if(df['relative_timestamp'][i]!=df['relative_timestamp'][i-1]):\n",
        "      j+=1\n",
        "      trainTensor[j][0] = df['latitude'][i]\n",
        "      trainTensor[j][1] = df['longitude'][i]\n",
        "      trainTensor[j][2] = df['flight_altitude[m]'][i]\n",
        "  trainTensor = trainTensor[trainTensor.abs().sum(dim=1) != 0]\n",
        "  testTensor = torch.zeros(testSize, 3).to(device)\n",
        "  testTensor[0][0] = df['latitude'][tl]\n",
        "  testTensor[0][1] = df['longitude'][tl]\n",
        "  testTensor[0][2] = df['flight_altitude[m]'][tl]\n",
        "  j = 0\n",
        "  for i in range(tl, len(df)):\n",
        "    if(df['relative_timestamp'][i]!=df['relative_timestamp'][i-1]):\n",
        "      j+=1\n",
        "      testTensor[j][0] = df['latitude'][i]\n",
        "      testTensor[j][1] = df['longitude'][i]\n",
        "      testTensor[j][2] = df['flight_altitude[m]'][i]\n",
        "  testTensor = testTensor[testTensor.abs().sum(dim=1) != 0]\n",
        "  print(len(trainTensor), end = ' ')\n",
        "  print(len(testTensor))\n",
        "  return [trainTensor, testTensor]"
      ],
      "execution_count": null,
      "outputs": []
    },
    {
      "cell_type": "markdown",
      "metadata": {
        "id": "4BcGKVOYynMZ",
        "colab_type": "text"
      },
      "source": [
        "### testing/predicting"
      ]
    },
    {
      "cell_type": "code",
      "metadata": {
        "id": "rP2QLpNmdll2",
        "colab_type": "code",
        "colab": {}
      },
      "source": [
        "def predict_30(model, conv_tT, trainTensor, fut_pred=30, device=device):\n",
        "  test_inputs = conv_tT[-train_window:]\n",
        "  model.eval()\n",
        "  for i in range(fut_pred):\n",
        "    seq = test_inputs[-train_window:].to(device)\n",
        "    with torch.no_grad():\n",
        "      model.hidden = (torch.zeros(1, 1, model.hidden_layer_size, device=device), torch.zeros(1, 1, model.hidden_layer_size, device=device))\n",
        "      Pred = model(seq)\n",
        "      newObservation = torch.tensor([[Pred[0], Pred[1], Pred[2]]])      \n",
        "      torch.cat((test_inputs, newObservation))\n",
        "  X = []\n",
        "  Y = []\n",
        "  Z = []\n",
        "  trainTensor[-1][0].item()\n",
        "  trainTensor[-1][1].item()\n",
        "  for x, y, z in test_inputs[-fut_pred:]:\n",
        "    X.append(x)\n",
        "    Y.append(y)\n",
        "    Z.append(z)\n",
        "    #print(x, y, z)\n",
        "  X = np.asarray(X)\n",
        "  Y = np.asarray(Y)\n",
        "  Z = np.asarray(Z)\n",
        "  X = np.cumsum(X)\n",
        "  Y = np.cumsum(Y)\n",
        "  Z = np.cumsum(Z)\n",
        "  X_f = X+trainTensor[-1][0].item()\n",
        "  Y_f = Y+trainTensor[-1][1].item()\n",
        "  Z_f = Z+trainTensor[-1][2].item()\n",
        "  #plt.plot(X_f, Y_f)\n",
        "  #plt.show()\n",
        "  #print(X_f)\n",
        "  #print(Y_f)\n",
        "  predicted = torch.zeros(fut_pred, 3).to(device)\n",
        "  for i in range(fut_pred):\n",
        "    predicted[i][0] = X_f[i].item()\n",
        "    predicted[i][1] = Y_f[i].item()\n",
        "    predicted[i][2] = Z_f[i].item()\n",
        "  return [predicted, X_f, Y_f, Z_f]"
      ],
      "execution_count": null,
      "outputs": []
    },
    {
      "cell_type": "code",
      "metadata": {
        "id": "JnfokzP_qY22",
        "colab_type": "code",
        "colab": {}
      },
      "source": [
        "def Completed_trajectory(model, conv_tT, trainTensor, fut_pred, testTensor, plot=True, device=device, merge=False):\n",
        "  X_f = np.asarray([])\n",
        "  Y_f = np.asarray([])\n",
        "  Z_f = np.asarray([])\n",
        "  predicted_tensor = torch.zeros(1, 3).to(device)\n",
        "  predicted_tensor[0] = trainTensor[-1]\n",
        "  temp = trainTensor[:]\n",
        "  for i in range(int(fut_pred/30)):\n",
        "    pred = predict_30(model, conv_tT, temp, 30, device)\n",
        "    temp = torch.cat((temp, pred[0]))\n",
        "    predicted_tensor = torch.cat((predicted_tensor, pred[0]))\n",
        "    X_f = np.concatenate((X_f, pred[1]), axis=0)\n",
        "    Y_f = np.concatenate((Y_f, pred[2]), axis=0)\n",
        "    Z_f = np.concatenate((Z_f, pred[3]), axis=0)\n",
        "  if fut_pred%30!=0:\n",
        "    pred = predict_30(model, conv_tT, temp, int(fut_pred%30), device)\n",
        "    temp = torch.cat((temp, pred[0]))\n",
        "    predicted_tensor = torch.cat((predicted_tensor, pred[0]))\n",
        "    X_f = np.concatenate((X_f, pred[1]), axis=0)\n",
        "    Y_f = np.concatenate((Y_f, pred[2]), axis=0)\n",
        "    Z_f = np.concatenate((Z_f, pred[3]), axis=0)\n",
        "\n",
        "  if plot:\n",
        "    plt.plot(trainTensor[:, :1].cpu(), trainTensor[:, 2:].cpu(), label='train')\n",
        "    plt.plot(testTensor[:, :1].cpu(), testTensor[:, 2:].cpu(), label='test')\n",
        "    plt.xlabel('latitude')\n",
        "    plt.ylabel('altitude')\n",
        "    plt.legend()\n",
        "    plt.show()\n",
        "\n",
        "    plt.plot(trainTensor[:, :1].cpu(), trainTensor[:, 2:].cpu(), label='train')\n",
        "    plt.plot(X_f, Z_f, label='predicted')\n",
        "    plt.xlabel('latitude')\n",
        "    plt.ylabel('altitude')\n",
        "    plt.legend()\n",
        "    plt.show()\n",
        "\n",
        "    plt.plot(trainTensor[:, :1].cpu(), trainTensor[:, 2:].cpu(), label='train')\n",
        "    plt.plot(testTensor[:, :1].cpu(), testTensor[:, 2:].cpu(), label='test')\n",
        "    plt.plot(X_f, Z_f, label='predicted')\n",
        "    plt.xlabel('latitude')\n",
        "    plt.ylabel('altitude')\n",
        "    plt.legend()\n",
        "    plt.show()\n",
        "  if(merge):\n",
        "    return temp\n",
        "  return predicted_tensor[1:]"
      ],
      "execution_count": null,
      "outputs": []
    },
    {
      "cell_type": "markdown",
      "metadata": {
        "id": "8_4pCu5TNuLh",
        "colab_type": "text"
      },
      "source": [
        "# Main"
      ]
    },
    {
      "cell_type": "code",
      "metadata": {
        "id": "zPFfrZdyNy5J",
        "colab_type": "code",
        "colab": {
          "base_uri": "https://localhost:8080/",
          "height": 974
        },
        "outputId": "a60f462b-7ebc-4fe2-a660-723f5bee1db2"
      },
      "source": [
        "!unzip data.zip"
      ],
      "execution_count": null,
      "outputs": [
        {
          "output_type": "stream",
          "text": [
            "Archive:  data.zip\n",
            "   creating: data/\n",
            "   creating: data/Dropped_Bomb/\n",
            "  inflating: data/Dropped_Bomb/traj21.csv  \n",
            "  inflating: data/Dropped_Bomb/traj22.csv  \n",
            "  inflating: data/Dropped_Bomb/traj23.csv  \n",
            "  inflating: data/Dropped_Bomb/traj24.csv  \n",
            "  inflating: data/Dropped_Bomb/traj25.csv  \n",
            "  inflating: data/Dropped_Bomb/traj26.csv  \n",
            "  inflating: data/Dropped_Bomb/traj27.csv  \n",
            "  inflating: data/Dropped_Bomb/traj28.csv  \n",
            "  inflating: data/Dropped_Bomb/traj29.csv  \n",
            "  inflating: data/Dropped_Bomb/traj30.csv  \n",
            "   creating: data/Fighter_Jet/\n",
            "  inflating: data/Fighter_Jet/traj51.csv  \n",
            "  inflating: data/Fighter_Jet/traj52.csv  \n",
            "  inflating: data/Fighter_Jet/traj53.csv  \n",
            "  inflating: data/Fighter_Jet/traj54.csv  \n",
            "  inflating: data/Fighter_Jet/traj55.csv  \n",
            "  inflating: data/Fighter_Jet/traj56.csv  \n",
            "  inflating: data/Fighter_Jet/traj57.csv  \n",
            "  inflating: data/Fighter_Jet/traj58.csv  \n",
            "  inflating: data/Fighter_Jet/traj59.csv  \n",
            "  inflating: data/Fighter_Jet/traj60.csv  \n",
            "   creating: data/Helicopter/\n",
            "  inflating: data/Helicopter/traj11.csv  \n",
            "  inflating: data/Helicopter/traj12.csv  \n",
            "  inflating: data/Helicopter/traj13.csv  \n",
            "  inflating: data/Helicopter/traj14.csv  \n",
            "  inflating: data/Helicopter/traj15.csv  \n",
            "  inflating: data/Helicopter/traj16.csv  \n",
            "  inflating: data/Helicopter/traj17.csv  \n",
            "  inflating: data/Helicopter/traj18.csv  \n",
            "  inflating: data/Helicopter/traj19.csv  \n",
            "  inflating: data/Helicopter/traj20.csv  \n",
            "   creating: data/Missile/\n",
            "  inflating: data/Missile/traj31.csv  \n",
            "  inflating: data/Missile/traj32.csv  \n",
            "  inflating: data/Missile/traj33.csv  \n",
            "  inflating: data/Missile/traj34.csv  \n",
            "  inflating: data/Missile/traj35.csv  \n",
            "  inflating: data/Missile/traj36.csv  \n",
            "  inflating: data/Missile/traj37.csv  \n",
            "  inflating: data/Missile/traj38.csv  \n",
            "  inflating: data/Missile/traj39.csv  \n",
            "  inflating: data/Missile/traj40.csv  \n",
            "   creating: data/Plane/\n",
            "  inflating: data/Plane/traj1.csv    \n",
            "  inflating: data/Plane/traj10.csv   \n",
            "  inflating: data/Plane/traj2.csv    \n",
            "  inflating: data/Plane/traj3.csv    \n",
            "  inflating: data/Plane/traj4.csv    \n",
            "  inflating: data/Plane/traj5.csv    \n",
            "  inflating: data/Plane/traj6.csv    \n",
            "  inflating: data/Plane/traj7.csv    \n",
            "  inflating: data/Plane/traj8.csv    \n",
            "  inflating: data/Plane/traj9.csv    \n"
          ],
          "name": "stdout"
        }
      ]
    },
    {
      "cell_type": "code",
      "metadata": {
        "colab_type": "code",
        "id": "seIuVSryRmZP",
        "colab": {}
      },
      "source": [
        "def getTrain_TestTensor2(filename):\n",
        "  rm = 52\n",
        "  data = pd.read_csv(filename)\n",
        "  df = pd.DataFrame(data)\n",
        "  z = (df['alt']*1e5).rolling(rm+1).mean()\n",
        "  tl = int((len(df)-rm)*0.68)\n",
        "  print(tl)\n",
        "  testSize = int(len(df)-rm) - tl\n",
        "  print(testSize)\n",
        "\n",
        "  trainTensor = torch.zeros(tl, 3).to(device)\n",
        "  trainTensor[0][0] = df['lat'][rm]\n",
        "  trainTensor[0][1] = df['lon'][rm]\n",
        "  trainTensor[0][2] = z[rm]*1e5\n",
        "  print(trainTensor.shape)\n",
        "  #Remove unneccary points\n",
        "\n",
        "  for i in range(1, tl):\n",
        "    trainTensor[i][0] = df['lat'][rm+i]\n",
        "    trainTensor[i][1] = df['lon'][rm+i]\n",
        "    trainTensor[i][2] = z[rm+i]*1e5\n",
        "  #trainTensor = trainTensor[trainTensor.abs().sum(dim=1) != 0]\n",
        "  testTensor = torch.zeros(testSize, 3).to(device)\n",
        "  testTensor[0][0] = df['lat'][rm+tl]\n",
        "  testTensor[0][1] = df['lon'][rm+tl]\n",
        "  testTensor[0][2] = z[rm+tl]*1e5\n",
        "  j = 0\n",
        "  for i in range(tl, len(df)-rm):\n",
        "    testTensor[j][0] = df['lat'][rm+i]\n",
        "    testTensor[j][1] = df['lon'][rm+i]\n",
        "    testTensor[j][2] = z[rm+i]*1e5\n",
        "    j+=1\n",
        "  #testTensor = testTensor[testTensor.abs().sum(dim=1) != 0]\n",
        "  #print(len(trainTensor), end = ' ')\n",
        "  #print(len(testTensor))\n",
        "  return [trainTensor, testTensor]"
      ],
      "execution_count": null,
      "outputs": []
    },
    {
      "cell_type": "markdown",
      "metadata": {
        "id": "EuMB7cfuEYyJ",
        "colab_type": "text"
      },
      "source": [
        "## Training plane_model"
      ]
    },
    {
      "cell_type": "code",
      "metadata": {
        "colab_type": "code",
        "id": "axrFjH4INwJa",
        "colab": {}
      },
      "source": [
        "# Train the first file\n",
        "file1 = '/content/data/Plane/traj10.csv'\n",
        "trainTensor, testTensor = getTrain_TestTensor2(file1)\n",
        "print(trainTensor)\n",
        "#plt.plot(trainTensor[:, :1].cpu().numpy(), trainTensor[:, 2:].cpu().numpy())\n",
        "#plt.plot(testTensor[:, :1].cpu().numpy(), testTensor[:, 2:].cpu().numpy())\n",
        "#plt.show()\n",
        "\n",
        "train_window = 50\n",
        "testSize = len(testTensor)\n",
        "conv_tT = trajectory_conversion(trainTensor)\n",
        "train_inout_seq = create_inout_sequences(conv_tT, train_window)\n",
        "net = LSTM()\n",
        "tm = train_model(net, train_inout_seq, epochs=15) #training code\n",
        "torch.save(tm.state_dict(), 'plane_model_0.pth')"
      ],
      "execution_count": null,
      "outputs": []
    },
    {
      "cell_type": "code",
      "metadata": {
        "colab_type": "code",
        "id": "SEzEtKXHNwJf",
        "colab": {}
      },
      "source": [
        "import glob\n",
        "n = 0\n",
        "for f in glob.iglob(r'/content/data/Plane/traj?.csv'):\n",
        "  print(f)\n",
        "  if f=='/content/data/Plane/traj1.csv':\n",
        "    continue\n",
        "  trainingTensor, testingTensor = getTrain_TestTensor2(f)\n",
        "  train_window = 50\n",
        "  conv_tT = trajectory_conversion(trainTensor)\n",
        "  train_inout_seq = create_inout_sequences(conv_tT, train_window)\n",
        "  name = 'plane_model_'+str(n)+'.pth'\n",
        "  net = LSTM()\n",
        "  net.load_state_dict(torch.load(name))\n",
        "  tm = train_model(net, train_inout_seq, epochs=15) #training code\n",
        "  n+=1\n",
        "  name = 'plane_model_'+str(n)+'.pth'\n",
        "  torch.save(tm.state_dict(), name)"
      ],
      "execution_count": null,
      "outputs": []
    },
    {
      "cell_type": "markdown",
      "metadata": {
        "id": "XE2teXT-EvGQ",
        "colab_type": "text"
      },
      "source": [
        "## Training helicopter_model"
      ]
    },
    {
      "cell_type": "code",
      "metadata": {
        "colab_type": "code",
        "id": "9FROyp8Ivnkk",
        "colab": {}
      },
      "source": [
        "# Train the first file\n",
        "file1 = '/content/data/Helicopter/traj20.csv'\n",
        "trainTensor, testTensor = getTrain_TestTensor2(file1)\n",
        "print(trainTensor)\n",
        "#plt.plot(trainTensor[:, :1].cpu().numpy(), trainTensor[:, 2:].cpu().numpy())\n",
        "#plt.plot(testTensor[:, :1].cpu().numpy(), testTensor[:, 2:].cpu().numpy())\n",
        "#plt.show()\n",
        "\n",
        "train_window = 50\n",
        "testSize = len(testTensor)\n",
        "conv_tT = trajectory_conversion(trainTensor)\n",
        "train_inout_seq = create_inout_sequences(conv_tT, train_window)\n",
        "net = LSTM()\n",
        "tm = train_model(net, train_inout_seq, epochs=15) #training code\n",
        "torch.save(tm.state_dict(), 'helicopter_model_0.pth')"
      ],
      "execution_count": null,
      "outputs": []
    },
    {
      "cell_type": "code",
      "metadata": {
        "colab_type": "code",
        "id": "RwrWic8_vnkn",
        "colab": {}
      },
      "source": [
        "import glob\n",
        "n = 0\n",
        "for f in glob.iglob(r'/content/data/Helicopter/traj1?.csv'):\n",
        "  print(f)\n",
        "  if f=='/content/data/Helicopter/traj11.csv':\n",
        "    continue\n",
        "  trainingTensor, testingTensor = getTrain_TestTensor2(f)\n",
        "  train_window = 50\n",
        "  conv_tT = trajectory_conversion(trainTensor)\n",
        "  train_inout_seq = create_inout_sequences(conv_tT, train_window)\n",
        "  name = 'helicopter_model_'+str(n)+'.pth'\n",
        "  net = LSTM()\n",
        "  net.load_state_dict(torch.load(name))\n",
        "  tm = train_model(net, train_inout_seq, epochs=15) #training code\n",
        "  n+=1\n",
        "  name = 'helicopter_model_'+str(n)+'.pth'\n",
        "  torch.save(tm.state_dict(), name)"
      ],
      "execution_count": null,
      "outputs": []
    },
    {
      "cell_type": "markdown",
      "metadata": {
        "id": "TJ7IFlysEzTx",
        "colab_type": "text"
      },
      "source": [
        "## Training DB_model"
      ]
    },
    {
      "cell_type": "code",
      "metadata": {
        "colab_type": "code",
        "id": "q1LadLnMFMSF",
        "colab": {}
      },
      "source": [
        "# Train the first file\n",
        "file1 = '/content/data/Dropped_Bomb/traj30.csv'\n",
        "trainTensor, testTensor = getTrain_TestTensor2(file1)\n",
        "print(trainTensor)\n",
        "#plt.plot(trainTensor[:, :1].cpu().numpy(), trainTensor[:, 2:].cpu().numpy())\n",
        "#plt.plot(testTensor[:, :1].cpu().numpy(), testTensor[:, 2:].cpu().numpy())\n",
        "#plt.show()\n",
        "\n",
        "train_window = 50\n",
        "testSize = len(testTensor)\n",
        "conv_tT = trajectory_conversion(trainTensor)\n",
        "train_inout_seq = create_inout_sequences(conv_tT, train_window)\n",
        "net = LSTM()\n",
        "tm = train_model(net, train_inout_seq, epochs=15) #training code\n",
        "torch.save(tm.state_dict(), 'DB_model_0.pth')"
      ],
      "execution_count": null,
      "outputs": []
    },
    {
      "cell_type": "code",
      "metadata": {
        "colab_type": "code",
        "id": "JPoAr-z6FMSJ",
        "colab": {}
      },
      "source": [
        "import glob\n",
        "n = 0\n",
        "for f in glob.iglob(r'/content/data/Dropped_Bomb/traj2?.csv'):\n",
        "  print(f)\n",
        "  if f=='/content/data/Dropped_Bomb/traj21.csv':\n",
        "    continue\n",
        "  trainingTensor, testingTensor = getTrain_TestTensor2(f)\n",
        "  train_window = 50\n",
        "  conv_tT = trajectory_conversion(trainTensor)\n",
        "  train_inout_seq = create_inout_sequences(conv_tT, train_window)\n",
        "  name = 'DB_model_'+str(n)+'.pth'\n",
        "  net = LSTM()\n",
        "  net.load_state_dict(torch.load(name))\n",
        "  tm = train_model(net, train_inout_seq, epochs=15) #training code\n",
        "  n+=1\n",
        "  name = 'DB_model_'+str(n)+'.pth'\n",
        "  torch.save(tm.state_dict(), name)"
      ],
      "execution_count": null,
      "outputs": []
    },
    {
      "cell_type": "markdown",
      "metadata": {
        "id": "EeG4d3UtE7tA",
        "colab_type": "text"
      },
      "source": [
        "## Training Missile_model"
      ]
    },
    {
      "cell_type": "code",
      "metadata": {
        "colab_type": "code",
        "id": "06A76kjsFRGX",
        "colab": {}
      },
      "source": [
        "# Train the first file\n",
        "file1 = '/content/data/Missile/traj40.csv'\n",
        "trainTensor, testTensor = getTrain_TestTensor2(file1)\n",
        "print(trainTensor)\n",
        "plt.plot(trainTensor[:, :1].cpu().numpy(), trainTensor[:, 2:].cpu().numpy())\n",
        "plt.plot(testTensor[:, :1].cpu().numpy(), testTensor[:, 2:].cpu().numpy())\n",
        "plt.show()\n",
        "\n",
        "train_window = 50\n",
        "testSize = len(testTensor)\n",
        "conv_tT = trajectory_conversion(trainTensor)\n",
        "train_inout_seq = create_inout_sequences(conv_tT, train_window)\n",
        "net = LSTM()\n",
        "tm = train_model(net, train_inout_seq, epochs=15) #training code\n",
        "torch.save(tm.state_dict(), 'missile_model_0.pth')"
      ],
      "execution_count": null,
      "outputs": []
    },
    {
      "cell_type": "code",
      "metadata": {
        "colab_type": "code",
        "id": "SOc24EQTFRGa",
        "colab": {}
      },
      "source": [
        "import glob\n",
        "n = 0\n",
        "for f in glob.iglob(r'/content/data/Missile/traj3?.csv'):\n",
        "  print(f)\n",
        "  if f=='/content/data/Missile/traj31.csv':\n",
        "    continue\n",
        "  trainingTensor, testingTensor = getTrain_TestTensor2(f)\n",
        "  train_window = 50\n",
        "  conv_tT = trajectory_conversion(trainTensor)\n",
        "  train_inout_seq = create_inout_sequences(conv_tT, train_window)\n",
        "  name = 'missile_model_'+str(n)+'.pth'\n",
        "  net = LSTM()\n",
        "  net.load_state_dict(torch.load(name))\n",
        "  tm = train_model(net, train_inout_seq, epochs=15) #training code\n",
        "  n+=1\n",
        "  name = 'missile_model_'+str(n)+'.pth'\n",
        "  torch.save(tm.state_dict(), name)"
      ],
      "execution_count": null,
      "outputs": []
    },
    {
      "cell_type": "markdown",
      "metadata": {
        "id": "US1TkDTQFBSh",
        "colab_type": "text"
      },
      "source": [
        "## Training FJ_model"
      ]
    },
    {
      "cell_type": "code",
      "metadata": {
        "colab_type": "code",
        "id": "7ETE7AMvFTRF",
        "colab": {}
      },
      "source": [
        "# Train the first file\n",
        "file1 = '/content/data/Fighter_Jet/traj60.csv'\n",
        "trainTensor, testTensor = getTrain_TestTensor2(file1)\n",
        "print(trainTensor)\n",
        "#plt.plot(trainTensor[:, :1].cpu().numpy(), trainTensor[:, 2:].cpu().numpy())\n",
        "#plt.plot(testTensor[:, :1].cpu().numpy(), testTensor[:, 2:].cpu().numpy())\n",
        "#plt.show()\n",
        "\n",
        "train_window = 50\n",
        "testSize = len(testTensor)\n",
        "conv_tT = trajectory_conversion(trainTensor)\n",
        "train_inout_seq = create_inout_sequences(conv_tT, train_window)\n",
        "net = LSTM()\n",
        "tm = train_model(net, train_inout_seq, epochs=15) #training code\n",
        "torch.save(tm.state_dict(), 'FJ_model_0.pth')"
      ],
      "execution_count": null,
      "outputs": []
    },
    {
      "cell_type": "code",
      "metadata": {
        "colab_type": "code",
        "id": "6G_VPXpPFTRH",
        "colab": {}
      },
      "source": [
        "import glob\n",
        "n = 0\n",
        "for f in glob.iglob(r'/content/data/Fighter_Jet/traj5?.csv'):\n",
        "  print(f)\n",
        "  if f=='/content/data/Fighter_Jet/traj51.csv':\n",
        "    continue\n",
        "  trainingTensor, testingTensor = getTrain_TestTensor2(f)\n",
        "  train_window = 50\n",
        "  conv_tT = trajectory_conversion(trainTensor)\n",
        "  train_inout_seq = create_inout_sequences(conv_tT, train_window)\n",
        "  name = 'FJ_model_'+str(n)+'.pth'\n",
        "  net = LSTM()\n",
        "  net.load_state_dict(torch.load(name))\n",
        "  tm = train_model(net, train_inout_seq, epochs=15) #training code\n",
        "  n+=1\n",
        "  name = 'FJ_model_'+str(n)+'.pth'\n",
        "  torch.save(tm.state_dict(), name)"
      ],
      "execution_count": null,
      "outputs": []
    },
    {
      "cell_type": "markdown",
      "metadata": {
        "id": "qOJOAd_2MMCC",
        "colab_type": "text"
      },
      "source": [
        "## save models in models.zip file"
      ]
    },
    {
      "cell_type": "code",
      "metadata": {
        "id": "hLXBXhS1MZfQ",
        "colab_type": "code",
        "colab": {}
      },
      "source": [
        "!mkdir models"
      ],
      "execution_count": 36,
      "outputs": []
    },
    {
      "cell_type": "code",
      "metadata": {
        "id": "xUkjmgnBxH4_",
        "colab_type": "code",
        "colab": {
          "base_uri": "https://localhost:8080/",
          "height": 336
        },
        "outputId": "24b939b8-5411-4ab3-b810-dd0a2d74a2f6"
      },
      "source": [
        "import shutil\n",
        "for f in glob.iglob(r'/content/*.pth'):\n",
        "  shutil.move(f, '/content/models/'+f[9:])\n",
        "  print(f[9:], 'moved')"
      ],
      "execution_count": 37,
      "outputs": [
        {
          "output_type": "stream",
          "text": [
            "missile_model_0.pth moved\n",
            "FJ_model_7.pth moved\n",
            "missile_model_4.pth moved\n",
            "FJ_model_0.pth moved\n",
            "FJ_model_4.pth moved\n",
            "FJ_model_6.pth moved\n",
            "FJ_model_8.pth moved\n",
            "missile_model_6.pth moved\n",
            "missile_model_2.pth moved\n",
            "missile_model_7.pth moved\n",
            "FJ_model_5.pth moved\n",
            "FJ_model_3.pth moved\n",
            "missile_model_3.pth moved\n",
            "FJ_model_1.pth moved\n",
            "missile_model_1.pth moved\n",
            "FJ_model_2.pth moved\n",
            "FJ_1.pth moved\n",
            "missile_model_8.pth moved\n",
            "missile_model_5.pth moved\n"
          ],
          "name": "stdout"
        }
      ]
    },
    {
      "cell_type": "code",
      "metadata": {
        "id": "ZmnwA4TMyW6d",
        "colab_type": "code",
        "colab": {}
      },
      "source": [
        "!zip -r /content/models.zip /content/models"
      ],
      "execution_count": null,
      "outputs": []
    }
  ]
}